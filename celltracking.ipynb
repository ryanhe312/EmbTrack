{
 "cells": [
  {
   "cell_type": "markdown",
   "metadata": {
    "id": "is-uQzzdqaYg"
   },
   "source": [
    "# KIT-Loe-GE Cell Segmentation and Tracking\n",
    "\n",
    "\n",
    "Simultaneous cell segmentation and tracking method used for our submission as team KIT-Loe-GE to the [Cell Tracking Challenge](http://celltrackingchallenge.net/) in 2022.\n",
    "\n",
    "The code is publicly available at https://github.com/kaloeffler/EmbedTrack.\n",
    "\n",
    "----\n",
    "\n",
    "Publication:\n",
    "K. Löffler and M. Mikut (2022). EmbedTrack -- Simultaneous Cell Segmentation and Tracking Through Learning Offsets and Clustering Bandwidths. arXiv preprint. DOI: [10.48550/arXiv.2204.10713](https://doi.org/10.48550/arXiv.2204.10713)\n",
    "\n",
    "----\n"
   ]
  },
  {
   "cell_type": "markdown",
   "metadata": {
    "id": "maazx1Kl8hHM"
   },
   "source": [
    "## 1) Setting up the environment"
   ]
  },
  {
   "cell_type": "markdown",
   "metadata": {
    "id": "LrJriGTywQv9"
   },
   "source": [
    "Creating the environment, cloning the code and adding some utilities for downloading the CTC data. Everything (data, code, trained models) will be stored in a folder named \"EmbedTrack\", so you can access it later."
   ]
  },
  {
   "cell_type": "code",
   "execution_count": 1,
   "metadata": {
    "colab": {
     "base_uri": "https://localhost:8080/"
    },
    "id": "hE3FvotewLju",
    "outputId": "60456528-36a2-4645-cfb5-ca29f8d240e1"
   },
   "outputs": [
    {
     "name": "stdout",
     "output_type": "stream",
     "text": [
      "Cloning into 'EmbedTrack'...\n",
      "remote: Enumerating objects: 129, done.\u001b[K\n",
      "remote: Counting objects: 100% (129/129), done.\u001b[K\n",
      "remote: Compressing objects: 100% (77/77), done.\u001b[K\n",
      "remote: Total 129 (delta 56), reused 119 (delta 50), pack-reused 0\u001b[K\n",
      "Receiving objects: 100% (129/129), 3.66 MiB | 5.06 MiB/s, done.\n",
      "Resolving deltas: 100% (56/56), done.\n"
     ]
    }
   ],
   "source": [
    "!git clone https://github.com/kaloeffler/EmbedTrack.git"
   ]
  },
  {
   "cell_type": "code",
   "execution_count": 9,
   "metadata": {
    "colab": {
     "base_uri": "https://localhost:8080/"
    },
    "id": "v2FtmKdJgN-o",
    "outputId": "d7714163-52c0-4b44-9d1f-8f19c578c6ed"
   },
   "outputs": [
    {
     "name": "stdout",
     "output_type": "stream",
     "text": [
      "Looking in indexes: https://pypi.tuna.tsinghua.edu.cn/simple\n",
      "Requirement already satisfied: imagecodecs in /home/user2/miniconda3/envs/pytorch113_cu117/lib/python3.10/site-packages (2024.1.1)\n",
      "Looking in indexes: https://pypi.tuna.tsinghua.edu.cn/simple\n",
      "Requirement already satisfied: cffi==1.16.0 in /home/user2/miniconda3/envs/pytorch113_cu117/lib/python3.10/site-packages (1.16.0)\n",
      "Requirement already satisfied: pycparser in /home/user2/miniconda3/envs/pytorch113_cu117/lib/python3.10/site-packages (from cffi==1.16.0) (2.21)\n",
      "Looking in indexes: https://pypi.tuna.tsinghua.edu.cn/simple\n",
      "Collecting albumentations\n",
      "  Downloading https://pypi.tuna.tsinghua.edu.cn/packages/a7/69/8674dad61e7851c858c167a8d6c32ccba1a32b2bf9a373c6e52b459a6e37/albumentations-1.4.0-py3-none-any.whl (123 kB)\n",
      "\u001b[2K     \u001b[90m━━━━━━━━━━━━━━━━━━━━━━━━━━━━━━━━━━━━━\u001b[0m \u001b[32m123.6/123.6 kB\u001b[0m \u001b[31m982.6 kB/s\u001b[0m eta \u001b[36m0:00:00\u001b[0m00:01\u001b[0m00:01\u001b[0m\n",
      "\u001b[?25hRequirement already satisfied: PyYAML in /home/user2/miniconda3/envs/pytorch113_cu117/lib/python3.10/site-packages (from albumentations) (6.0)\n",
      "Requirement already satisfied: scipy>=1.10.0 in /home/user2/miniconda3/envs/pytorch113_cu117/lib/python3.10/site-packages (from albumentations) (1.10.1)\n",
      "Collecting scikit-image>=0.21.0\n",
      "  Using cached https://pypi.tuna.tsinghua.edu.cn/packages/f1/6c/49f5a0ce8ddcdbdac5ac69c129654938cc6de0a936303caa6cad495ceb2a/scikit_image-0.22.0-cp310-cp310-manylinux_2_17_x86_64.manylinux2014_x86_64.whl (14.7 MB)\n",
      "Collecting numpy>=1.24.4\n",
      "  Downloading https://pypi.tuna.tsinghua.edu.cn/packages/4b/d7/ecf66c1cd12dc28b4040b15ab4d17b773b87fa9d29ca16125de01adb36cd/numpy-1.26.4-cp310-cp310-manylinux_2_17_x86_64.manylinux2014_x86_64.whl (18.2 MB)\n",
      "\u001b[2K     \u001b[90m━━━━━━━━━━━━━━━━━━━━━━━━━━━━━━━━━━━━━━━━\u001b[0m \u001b[32m18.2/18.2 MB\u001b[0m \u001b[31m9.6 MB/s\u001b[0m eta \u001b[36m0:00:00\u001b[0m:00:01\u001b[0m00:01\u001b[0m\n",
      "\u001b[?25hCollecting qudida>=0.0.4\n",
      "  Downloading https://pypi.tuna.tsinghua.edu.cn/packages/f0/a1/a5f4bebaa31d109003909809d88aeb0d4b201463a9ea29308d9e4f9e7655/qudida-0.0.4-py3-none-any.whl (3.5 kB)\n",
      "Collecting opencv-python>=4.9.0\n",
      "  Downloading https://pypi.tuna.tsinghua.edu.cn/packages/d9/64/7fdfb9386511cd6805451e012c537073a79a958a58795c4e602e538c388c/opencv_python-4.9.0.80-cp37-abi3-manylinux_2_17_x86_64.manylinux2014_x86_64.whl (62.2 MB)\n",
      "\u001b[2K     \u001b[90m━━━━━━━━━━━━━━━━━━━━━━━━━━━━━━━━━━━━━━━━\u001b[0m \u001b[32m62.2/62.2 MB\u001b[0m \u001b[31m3.4 MB/s\u001b[0m eta \u001b[36m0:00:00\u001b[0m00:01\u001b[0m00:01\u001b[0m\n",
      "\u001b[?25hCollecting opencv-python-headless>=4.0.1\n",
      "  Downloading https://pypi.tuna.tsinghua.edu.cn/packages/71/19/3c65483a80a1d062d46ae20faf5404712d25cb1dfdcaf371efbd67c38544/opencv_python_headless-4.9.0.80-cp37-abi3-manylinux_2_17_x86_64.manylinux2014_x86_64.whl (49.6 MB)\n",
      "\u001b[2K     \u001b[90m━━━━━━━━━━━━━━━━━━━━━━━━━━━━━━━━━━━━━━━━\u001b[0m \u001b[32m49.6/49.6 MB\u001b[0m \u001b[31m3.4 MB/s\u001b[0m eta \u001b[36m0:00:00\u001b[0m00:01\u001b[0m00:01\u001b[0m\n",
      "\u001b[?25hRequirement already satisfied: typing-extensions in /home/user2/miniconda3/envs/pytorch113_cu117/lib/python3.10/site-packages (from qudida>=0.0.4->albumentations) (4.4.0)\n",
      "Requirement already satisfied: scikit-learn>=0.19.1 in /home/user2/miniconda3/envs/pytorch113_cu117/lib/python3.10/site-packages (from qudida>=0.0.4->albumentations) (1.3.0)\n",
      "Collecting lazy_loader>=0.3\n",
      "  Using cached https://pypi.tuna.tsinghua.edu.cn/packages/a1/c3/65b3814e155836acacf720e5be3b5757130346670ac454fee29d3eda1381/lazy_loader-0.3-py3-none-any.whl (9.1 kB)\n",
      "Requirement already satisfied: tifffile>=2022.8.12 in /home/user2/miniconda3/envs/pytorch113_cu117/lib/python3.10/site-packages (from scikit-image>=0.21.0->albumentations) (2023.2.28)\n",
      "Requirement already satisfied: packaging>=21 in /home/user2/miniconda3/envs/pytorch113_cu117/lib/python3.10/site-packages (from scikit-image>=0.21.0->albumentations) (23.0)\n",
      "Collecting imageio>=2.27\n",
      "  Downloading https://pypi.tuna.tsinghua.edu.cn/packages/02/25/66533a8390e3763cf8254dee143dbf8a830391ea60d2762512ba7f9ddfbe/imageio-2.34.0-py3-none-any.whl (313 kB)\n",
      "\u001b[2K     \u001b[90m━━━━━━━━━━━━━━━━━━━━━━━━━━━━━━━━━━━━━\u001b[0m \u001b[32m313.4/313.4 kB\u001b[0m \u001b[31m802.8 kB/s\u001b[0m eta \u001b[36m0:00:00\u001b[0m00:01\u001b[0m00:01\u001b[0m\n",
      "\u001b[?25hRequirement already satisfied: pillow>=9.0.1 in /home/user2/miniconda3/envs/pytorch113_cu117/lib/python3.10/site-packages (from scikit-image>=0.21.0->albumentations) (9.4.0)\n",
      "Requirement already satisfied: networkx>=2.8 in /home/user2/miniconda3/envs/pytorch113_cu117/lib/python3.10/site-packages (from scikit-image>=0.21.0->albumentations) (3.1)\n",
      "Requirement already satisfied: joblib>=1.1.1 in /home/user2/miniconda3/envs/pytorch113_cu117/lib/python3.10/site-packages (from scikit-learn>=0.19.1->qudida>=0.0.4->albumentations) (1.3.1)\n",
      "Requirement already satisfied: threadpoolctl>=2.0.0 in /home/user2/miniconda3/envs/pytorch113_cu117/lib/python3.10/site-packages (from scikit-learn>=0.19.1->qudida>=0.0.4->albumentations) (3.2.0)\n",
      "Installing collected packages: numpy, lazy_loader, opencv-python-headless, opencv-python, imageio, scikit-image, qudida, albumentations\n",
      "  Attempting uninstall: numpy\n",
      "    Found existing installation: numpy 1.23.5\n",
      "    Uninstalling numpy-1.23.5:\n",
      "      Successfully uninstalled numpy-1.23.5\n",
      "  Attempting uninstall: lazy_loader\n",
      "    Found existing installation: lazy_loader 0.2\n",
      "    Uninstalling lazy_loader-0.2:\n",
      "      Successfully uninstalled lazy_loader-0.2\n",
      "  Attempting uninstall: opencv-python\n",
      "    Found existing installation: opencv-python 4.7.0.72\n",
      "    Uninstalling opencv-python-4.7.0.72:\n",
      "      Successfully uninstalled opencv-python-4.7.0.72\n",
      "  Attempting uninstall: imageio\n",
      "    Found existing installation: imageio 2.26.0\n",
      "    Uninstalling imageio-2.26.0:\n",
      "      Successfully uninstalled imageio-2.26.0\n",
      "  Attempting uninstall: scikit-image\n",
      "    Found existing installation: scikit-image 0.20.0\n",
      "    Uninstalling scikit-image-0.20.0:\n",
      "      Successfully uninstalled scikit-image-0.20.0\n",
      "Successfully installed albumentations-1.4.0 imageio-2.34.0 lazy_loader-0.3 numpy-1.26.4 opencv-python-4.9.0.80 opencv-python-headless-4.9.0.80 qudida-0.0.4 scikit-image-0.22.0\n"
     ]
    }
   ],
   "source": [
    "!pip install imagecodecs --no-dependencies\n",
    "!pip install cffi==\"1.16.0\"\n",
    "!pip install albumentations"
   ]
  },
  {
   "cell_type": "markdown",
   "metadata": {
    "id": "kHEdAnuIPyq9"
   },
   "source": [
    "**Check cuda is available - otherwise set in colab under \"runtime\" -> \"change runtime type\" the runtime from \"None\" to \"GPU\"**\n",
    "\n"
   ]
  },
  {
   "cell_type": "code",
   "execution_count": 2,
   "metadata": {
    "colab": {
     "base_uri": "https://localhost:8080/"
    },
    "id": "IUjDlAlljZGp",
    "outputId": "71c3fbc4-62cb-49ac-8eff-b78eef115bb1"
   },
   "outputs": [
    {
     "name": "stderr",
     "output_type": "stream",
     "text": [
      "/home/user2/miniconda3/envs/pytorch113_cu117/lib/python3.10/site-packages/tqdm/auto.py:21: TqdmWarning: IProgress not found. Please update jupyter and ipywidgets. See https://ipywidgets.readthedocs.io/en/stable/user_install.html\n",
      "  from .autonotebook import tqdm as notebook_tqdm\n"
     ]
    },
    {
     "name": "stdout",
     "output_type": "stream",
     "text": [
      "True\n",
      "1.13.1\n"
     ]
    }
   ],
   "source": [
    "import torch\n",
    "print(torch.cuda.is_available())\n",
    "print(torch.__version__)"
   ]
  },
  {
   "cell_type": "markdown",
   "metadata": {
    "id": "hf9tQnviwSn5"
   },
   "source": [
    "**Utilities to facilitate downloading data from the Cell Tracking Challenge**\n",
    "\n",
    "Please note: you need to run this cell before jumping to the training / inference sections!"
   ]
  },
  {
   "cell_type": "code",
   "execution_count": 3,
   "metadata": {
    "id": "DK-quV8_F9qM"
   },
   "outputs": [],
   "source": [
    "import requests\n",
    "import zipfile\n",
    "import os\n",
    "\n",
    "def retrieve_ctc_data(url, save_dir):\n",
    "  zip_file = os.path.join(save_dir, url.split(\"/\")[-1])\n",
    "  with requests.get(url, stream=True) as req:\n",
    "    req.raise_for_status()\n",
    "    with open(zip_file, \"wb\") as file:\n",
    "      for chunk in req.iter_content(chunk_size=8192):\n",
    "        file.write(chunk)\n",
    "  print(f\"Unzip data set {os.path.basename(zip_file)}\")\n",
    "  with zipfile.ZipFile(zip_file) as z:\n",
    "    z.extractall(save_dir)\n",
    "\n",
    "  os.remove(zip_file)\n"
   ]
  },
  {
   "cell_type": "markdown",
   "metadata": {
    "id": "RjdyDRbU8xtm"
   },
   "source": [
    "## 2.) Training and Inference"
   ]
  },
  {
   "cell_type": "markdown",
   "metadata": {
    "id": "o2bjJJmLTUMp"
   },
   "source": [
    "### 2.1.) Select a data set to do training / inference on\n",
    "\n",
    "EmbedTrack was tested and trained on the following 2D datasets, as they all provide an additional Silver Truth (ST) which will be processed together with the Gold Truth annotations (GT) to get fully labelled cell segmentation masks with resonable annotation quality:\n",
    "\"Fluo-N2DH-SIM+\",\n",
    "  \"Fluo-C2DL-MSC\",\n",
    "    \"Fluo-N2DH-GOWT1\",\n",
    "    \"PhC-C2DL-PSC\",\n",
    "    \"BF-C2DL-HSC\",\n",
    "    \"Fluo-N2DL-HeLa\",\n",
    "    \"BF-C2DL-MuSC\",\n",
    "    \"DIC-C2DH-HeLa\", and\n",
    "    \"PhC-C2DH-U373\"."
   ]
  },
  {
   "cell_type": "code",
   "execution_count": 1,
   "metadata": {
    "id": "NUCDK7XcyV0C"
   },
   "outputs": [],
   "source": [
    "# possible data sets:\n",
    "\n",
    "#[    \"Fluo-N2DH-SIM+\",\n",
    "#    \"Fluo-C2DL-MSC\",\n",
    "#    \"Fluo-N2DH-GOWT1\",\n",
    "#    \"Fluo-N2DL-HeLa\",\n",
    "#]\n",
    "\n",
    "data_set = \"Fluo-N2DH-SIM+\"\n"
   ]
  },
  {
   "cell_type": "markdown",
   "metadata": {
    "id": "unZRe2zW9NVq"
   },
   "source": [
    "### 2.2.) Download the selected data set from the Cell Tracking Challenge"
   ]
  },
  {
   "cell_type": "code",
   "execution_count": 2,
   "metadata": {
    "colab": {
     "base_uri": "https://localhost:8080/"
    },
    "id": "QSgILgio0bOt",
    "outputId": "d51adb1d-5aa6-40d3-c187-5484aad08747"
   },
   "outputs": [
    {
     "name": "stdout",
     "output_type": "stream",
     "text": [
      "/home/user2/project/CellTrackingProject/EmbedTrack\n",
      "ctc_raw_data  environment.yml  kit_loe_ge.ipynb  README.md\n",
      "data\t      gifs\t       LICENSE\t\t results\n",
      "embedtrack    __init__.py      models\n"
     ]
    },
    {
     "name": "stderr",
     "output_type": "stream",
     "text": [
      "/home/user2/miniconda3/envs/pytorch113_cu117/lib/python3.10/site-packages/IPython/core/magics/osm.py:417: UserWarning: This is now an optional IPython functionality, setting dhist requires you to install the `pickleshare` library.\n",
      "  self.shell.db['dhist'] = compress_dhist(dhist)[-100:]\n"
     ]
    }
   ],
   "source": [
    "# change to the embedtrack folder that has been created in your drive\n",
    "%cd EmbedTrack/\n",
    "!ls"
   ]
  },
  {
   "cell_type": "code",
   "execution_count": 6,
   "metadata": {
    "colab": {
     "base_uri": "https://localhost:8080/"
    },
    "id": "7-j-ZXo20Ww-",
    "outputId": "fc4cfb2e-0a40-4bc6-c412-fe94d3d8a832"
   },
   "outputs": [
    {
     "name": "stdout",
     "output_type": "stream",
     "text": [
      "Downloading training data set to /home/user2/project/CellTrackingProject/EmbedTrack/ctc_raw_data/train/Fluo-N2DH-SIM+ ...\n",
      "Unzip data set Fluo-N2DH-SIM+.zip\n",
      "Downloading challenge data set to /home/user2/project/CellTrackingProject/EmbedTrack/ctc_raw_data/challenge/Fluo-N2DH-SIM+ ...\n",
      "Unzip data set Fluo-N2DH-SIM+.zip\n",
      "Downloading  ctc metrics to /home/user2/project/CellTrackingProject/EmbedTrack/embedtrack/ctc_metrics/CTC_eval ...\n",
      "Unzip data set EvaluationSoftware.zip\n"
     ]
    }
   ],
   "source": [
    "import os\n",
    "from pathlib import Path\n",
    "\n",
    "ctc_data_url = \"http://data.celltrackingchallenge.net\"\n",
    "ctc_metrics_url = \"http://public.celltrackingchallenge.net/software/EvaluationSoftware.zip\"\n",
    "\n",
    "training_data_url = os.path.join(ctc_data_url, \"training-datasets/\")\n",
    "challenge_data_url = os.path.join(ctc_data_url, \"test-datasets/\")\n",
    "\n",
    "current_path = Path.cwd()\n",
    "data_path = current_path / 'ctc_raw_data'\n",
    "ctc_metrics_path = os.path.join(current_path, \"embedtrack\", \"ctc_metrics\", \"CTC_eval\")\n",
    "\n",
    "# Download training data set\n",
    "if not os.path.exists(data_path / \"train\" / data_set):\n",
    "  dp = os.path.join(data_path, \"train\", data_set)\n",
    "  print(f\"Downloading training data set to {dp} ...\")\n",
    "  data_url = training_data_url + data_set + \".zip\"\n",
    "  retrieve_ctc_data(data_url, os.path.join(data_path, \"train\"))\n",
    "\n",
    "# Download challenge data set\n",
    "if not os.path.exists(data_path / \"challenge\" / data_set):\n",
    "  dp = os.path.join(data_path, \"challenge\", data_set)\n",
    "  print(f\"Downloading challenge data set to {dp} ...\")\n",
    "  data_url = challenge_data_url + data_set + \".zip\"\n",
    "  retrieve_ctc_data(data_url, os.path.join(data_path, \"challenge\"))\n",
    "\n",
    "# Download evaluation software\n",
    "if len(os.listdir(ctc_metrics_path)) <= 1:\n",
    "  print(f\"Downloading  ctc metrics to {ctc_metrics_path} ...\")\n",
    "  retrieve_ctc_data(ctc_metrics_url, ctc_metrics_path)\n",
    "\n",
    "# make CTC metrics executable\n",
    "!chmod -R 755 $ctc_metrics_path"
   ]
  },
  {
   "cell_type": "code",
   "execution_count": 7,
   "metadata": {
    "colab": {
     "base_uri": "https://localhost:8080/",
     "height": 1000
    },
    "id": "rbozXLBoEUP3",
    "outputId": "80dd78a8-1eb4-43a3-97eb-9b0d43d94ba7"
   },
   "outputs": [
    {
     "name": "stdout",
     "output_type": "stream",
     "text": [
      "num_images: 65\n"
     ]
    },
    {
     "data": {
      "image/png": "[encoded data removed]",
      "text/plain": [
       "<Figure size 640x480 with 4 Axes>"
      ]
     },
     "metadata": {},
     "output_type": "display_data"
    },
    {
     "data": {
      "image/png": "[encoded data removed]",
      "text/plain": [
       "<Figure size 640x480 with 4 Axes>"
      ]
     },
     "metadata": {},
     "output_type": "display_data"
    },
    {
     "data": {
      "image/png": "[encoded data removed]",
      "text/plain": [
       "<Figure size 640x480 with 4 Axes>"
      ]
     },
     "metadata": {},
     "output_type": "display_data"
    },
    {
     "data": {
      "text/plain": [
       "<Figure size 640x480 with 0 Axes>"
      ]
     },
     "metadata": {},
     "output_type": "display_data"
    }
   ],
   "source": [
    "# inspect data\n",
    "import tifffile\n",
    "import glob\n",
    "import matplotlib.pyplot as plt\n",
    "from pathlib import Path\n",
    "import numpy as np\n",
    "\n",
    "path_dataset = Path(f'ctc_raw_data/train/{data_set}')\n",
    "subset_select = '01'\n",
    "path_sample = path_dataset/f'{subset_select}'\n",
    "path_gt_seg = path_dataset/f'{subset_select}_GT/SEG'\n",
    "path_gt_tra = path_dataset/f'{subset_select}_GT/TRA'\n",
    "path_st_seg = path_dataset/f'{subset_select}_ST/SEG'\n",
    "\n",
    "num_images = len(list(path_sample.glob('*.tif')))\n",
    "print(f'num_images: {num_images}')\n",
    "\n",
    "# read if exists, else return an empty image\n",
    "def read_image(path):\n",
    "    image_path = path\n",
    "    if image_path.exists():\n",
    "        image = tifffile.imread(image_path)\n",
    "    else:\n",
    "        image = np.eye(100) * 255\n",
    "    return image\n",
    "\n",
    "\n",
    "# use matplotlib to plot it, only show first 3 samples\n",
    "for i in range(0, 3):\n",
    "    image = read_image(path_sample/f't{i:03d}.tif')\n",
    "    gt_seg = read_image(path_gt_seg/f'man_seg{i:03d}.tif')\n",
    "    gt_tra = read_image(path_gt_tra/f'man_track{i:03d}.tif')\n",
    "    st = read_image(path_st_seg/f'man_seg{i:03d}.tif')\n",
    "\n",
    "\n",
    "    plt.subplot(221)\n",
    "    # Add prompt\n",
    "    plt.text(1.3, 1.2, f'{path_dataset.name}', ha='center', va='center', transform=plt.gca().transAxes, fontsize=16)\n",
    "\n",
    "    plt.imshow(image, cmap='gray')\n",
    "    plt.title(f'Image {i:04d}')\n",
    "    plt.axis('off')\n",
    "    plt.subplot(222)\n",
    "    plt.imshow(st, cmap='gray')\n",
    "    plt.title('st_seg')\n",
    "    plt.axis('off')\n",
    "    plt.subplot(223)\n",
    "    plt.imshow(gt_seg, cmap='gray')\n",
    "    plt.title('gt_seg')\n",
    "    plt.axis('off')\n",
    "    plt.subplot(224)\n",
    "    plt.imshow(gt_tra, cmap='gray')\n",
    "    plt.title('gt_tra')\n",
    "    plt.axis('off')\n",
    "\n",
    "\n",
    "    # plt.show()\n",
    "    plt.pause(0.5)\n",
    "    plt.clf()\n",
    "\n",
    "# plt.close('all')"
   ]
  },
  {
   "cell_type": "markdown",
   "metadata": {
    "id": "IM9SX9IY9VsK"
   },
   "source": [
    "### 2.3.) Train a model for the selected data set"
   ]
  },
  {
   "cell_type": "code",
   "execution_count": 3,
   "metadata": {
    "id": "NAaqqlOLCeCr"
   },
   "outputs": [],
   "source": [
    "# remove preprocessed data if necessary\n",
    "!rm -rf data/"
   ]
  },
  {
   "cell_type": "code",
   "execution_count": 4,
   "metadata": {
    "colab": {
     "base_uri": "https://localhost:8080/"
    },
    "id": "OPnQmrb3yLQf",
    "outputId": "c87872f1-bfae-4860-adb9-66c780f17a21"
   },
   "outputs": [
    {
     "name": "stderr",
     "output_type": "stream",
     "text": [
      "/home/user2/miniconda3/envs/pytorch113_cu117/lib/python3.10/site-packages/tqdm/auto.py:21: TqdmWarning: IProgress not found. Please update jupyter and ipywidgets. See https://ipywidgets.readthedocs.io/en/stable/user_install.html\n",
      "  from .autonotebook import tqdm as notebook_tqdm\n"
     ]
    },
    {
     "name": "stdout",
     "output_type": "stream",
     "text": [
      "prepare data of Fluo-N2DH-SIM+\n",
      "data stored in /home/user2/project/CellTrackingProject/EmbedTrack/data\n",
      "Dataset properies of the `Fluo-N2DH-SIM+` dataset is saved to /home/user2/project/CellTrackingProject/EmbedTrack/data/Fluo-N2DH-SIM+/data_properties.json\n",
      "/home/user2/project/CellTrackingProject/EmbedTrack/data/crops\n"
     ]
    },
    {
     "name": "stderr",
     "output_type": "stream",
     "text": [
      "  0%|                                                                                                                                                                                     | 0/59 [00:00<?, ?it/s]"
     ]
    },
    {
     "name": "stdout",
     "output_type": "stream",
     "text": [
      "Created new directory : /home/user2/project/CellTrackingProject/EmbedTrack/data/crops/Fluo-N2DH-SIM+/train/01/images/\n",
      "Created new directory : /home/user2/project/CellTrackingProject/EmbedTrack/data/crops/Fluo-N2DH-SIM+/train/01/masks/\n",
      "Created new directory : /home/user2/project/CellTrackingProject/EmbedTrack/data/crops/Fluo-N2DH-SIM+/train/01/center-medoid/\n",
      "Created new directory : /home/user2/project/CellTrackingProject/EmbedTrack/data/Fluo-N2DH-SIM+/train/01/center-medoid/\n"
     ]
    },
    {
     "name": "stderr",
     "output_type": "stream",
     "text": [
      "100%|████████████████████████████████████████████████████████████████████████████████████████████████████████████████████████████████████████████████████████████████████████████| 59/59 [01:05<00:00,  1.11s/it]\n"
     ]
    },
    {
     "name": "stdout",
     "output_type": "stream",
     "text": [
      "Cropping of images, instances and centre_images for data_subset = `train/01` done!\n"
     ]
    },
    {
     "name": "stderr",
     "output_type": "stream",
     "text": [
      "  0%|                                                                                                                                                                                    | 0/135 [00:00<?, ?it/s]"
     ]
    },
    {
     "name": "stdout",
     "output_type": "stream",
     "text": [
      "Created new directory : /home/user2/project/CellTrackingProject/EmbedTrack/data/crops/Fluo-N2DH-SIM+/train/02/images/\n",
      "Created new directory : /home/user2/project/CellTrackingProject/EmbedTrack/data/crops/Fluo-N2DH-SIM+/train/02/masks/\n",
      "Created new directory : /home/user2/project/CellTrackingProject/EmbedTrack/data/crops/Fluo-N2DH-SIM+/train/02/center-medoid/\n",
      "Created new directory : /home/user2/project/CellTrackingProject/EmbedTrack/data/Fluo-N2DH-SIM+/train/02/center-medoid/\n"
     ]
    },
    {
     "name": "stderr",
     "output_type": "stream",
     "text": [
      "100%|██████████████████████████████████████████████████████████████████████████████████████████████████████████████████████████████████████████████████████████████████████████| 135/135 [01:22<00:00,  1.64it/s]\n"
     ]
    },
    {
     "name": "stdout",
     "output_type": "stream",
     "text": [
      "Cropping of images, instances and centre_images for data_subset = `train/02` done!\n"
     ]
    },
    {
     "name": "stderr",
     "output_type": "stream",
     "text": [
      "  0%|                                                                                                                                                                                      | 0/6 [00:00<?, ?it/s]"
     ]
    },
    {
     "name": "stdout",
     "output_type": "stream",
     "text": [
      "Created new directory : /home/user2/project/CellTrackingProject/EmbedTrack/data/crops/Fluo-N2DH-SIM+/val/01/images/\n",
      "Created new directory : /home/user2/project/CellTrackingProject/EmbedTrack/data/crops/Fluo-N2DH-SIM+/val/01/masks/\n",
      "Created new directory : /home/user2/project/CellTrackingProject/EmbedTrack/data/crops/Fluo-N2DH-SIM+/val/01/center-medoid/\n",
      "Created new directory : /home/user2/project/CellTrackingProject/EmbedTrack/data/Fluo-N2DH-SIM+/val/01/center-medoid/\n"
     ]
    },
    {
     "name": "stderr",
     "output_type": "stream",
     "text": [
      "100%|██████████████████████████████████████████████████████████████████████████████████████████████████████████████████████████████████████████████████████████████████████████████| 6/6 [00:06<00:00,  1.02s/it]\n"
     ]
    },
    {
     "name": "stdout",
     "output_type": "stream",
     "text": [
      "Cropping of images, instances and centre_images for data_subset = `val/01` done!\n"
     ]
    },
    {
     "name": "stderr",
     "output_type": "stream",
     "text": [
      "  0%|                                                                                                                                                                                     | 0/15 [00:00<?, ?it/s]"
     ]
    },
    {
     "name": "stdout",
     "output_type": "stream",
     "text": [
      "Created new directory : /home/user2/project/CellTrackingProject/EmbedTrack/data/crops/Fluo-N2DH-SIM+/val/02/images/\n",
      "Created new directory : /home/user2/project/CellTrackingProject/EmbedTrack/data/crops/Fluo-N2DH-SIM+/val/02/masks/\n",
      "Created new directory : /home/user2/project/CellTrackingProject/EmbedTrack/data/crops/Fluo-N2DH-SIM+/val/02/center-medoid/\n",
      "Created new directory : /home/user2/project/CellTrackingProject/EmbedTrack/data/Fluo-N2DH-SIM+/val/02/center-medoid/\n"
     ]
    },
    {
     "name": "stderr",
     "output_type": "stream",
     "text": [
      "100%|████████████████████████████████████████████████████████████████████████████████████████████████████████████████████████████████████████████████████████████████████████████| 15/15 [00:16<00:00,  1.07s/it]\n"
     ]
    },
    {
     "name": "stdout",
     "output_type": "stream",
     "text": [
      "Cropping of images, instances and centre_images for data_subset = `val/02` done!\n",
      "Created new directory : /home/user2/project/CellTrackingProject/EmbedTrack/data/crops/Fluo-N2DH-SIM+/train/01/center-medoid-flow\n",
      "Created new directory : /home/user2/project/CellTrackingProject/EmbedTrack/data/Fluo-N2DH-SIM+/train/01/center-medoid-flow\n",
      "Created new directory : /home/user2/project/CellTrackingProject/EmbedTrack/data/crops/Fluo-N2DH-SIM+/train/02/center-medoid-flow\n",
      "Created new directory : /home/user2/project/CellTrackingProject/EmbedTrack/data/Fluo-N2DH-SIM+/train/02/center-medoid-flow\n",
      "Created new directory : /home/user2/project/CellTrackingProject/EmbedTrack/data/crops/Fluo-N2DH-SIM+/val/01/center-medoid-flow\n",
      "Created new directory : /home/user2/project/CellTrackingProject/EmbedTrack/data/Fluo-N2DH-SIM+/val/01/center-medoid-flow\n",
      "Created new directory : /home/user2/project/CellTrackingProject/EmbedTrack/data/crops/Fluo-N2DH-SIM+/val/02/center-medoid-flow\n",
      "Created new directory : /home/user2/project/CellTrackingProject/EmbedTrack/data/Fluo-N2DH-SIM+/val/02/center-medoid-flow\n",
      "`train_dataset_dict` dictionary successfully created with: \n",
      " -- ['/home/user2/project/CellTrackingProject/EmbedTrack/data/Fluo-N2DH-SIM+/train/01/images', '/home/user2/project/CellTrackingProject/EmbedTrack/data/Fluo-N2DH-SIM+/train/02/images'] images accessed from ['/home/user2/project/CellTrackingProject/EmbedTrack/data/crops/Fluo-N2DH-SIM+/train/01/images', '/home/user2/project/CellTrackingProject/EmbedTrack/data/crops/Fluo-N2DH-SIM+/train/02/images'], \n",
      " -- number of images per epoch equal to None, \n",
      " -- batch size set at 16, \n",
      " -- virtual batch multiplier set as 1.\n",
      "`val_dataset_dict` dictionary successfully created with: \n",
      " -- ['/home/user2/project/CellTrackingProject/EmbedTrack/data/Fluo-N2DH-SIM+/val/01/images', '/home/user2/project/CellTrackingProject/EmbedTrack/data/Fluo-N2DH-SIM+/val/02/images'] images accessed from ['/home/user2/project/CellTrackingProject/EmbedTrack/data/crops/Fluo-N2DH-SIM+/val/01/images', '/home/user2/project/CellTrackingProject/EmbedTrack/data/crops/Fluo-N2DH-SIM+/val/02/images'], \n",
      " -- number of images per epoch equal to None, \n",
      " -- batch size set at 16, \n",
      " -- virtual batch multiplier set as 1.\n",
      "`model_dict` dictionary successfully created with: \n",
      " -- num of classes equal to [4, 1, 2], \n",
      " -- input channels equal to 1, \n",
      " -- name equal to 2d\n",
      "`loss_dict` dictionary successfully created with: \n",
      " -- foreground weight equal to 1.000, \n",
      " -- w_inst equal to 1, \n",
      " -- w_var equal to 10, \n",
      " -- w_seed equal to 1\n",
      "`configs` dictionary successfully created with: \n",
      " -- n_epochs equal to 15, \n",
      " -- display equal to False, \n",
      " -- save_dir equal to /home/user2/project/CellTrackingProject/EmbedTrack/models/Fluo-N2DH-SIM+/adam_norm_onecycle_15/2024-03-04---12-24-43, \n",
      " -- n_y equal to 256, \n",
      " -- n_x equal to 256, \n",
      "2-D `train` dataloader created! Accessing data from /home/user2/project/CellTrackingProject/EmbedTrack/data/crops/Fluo-N2DH-SIM+/['train/01', 'train/02']/\n",
      "Number of images in `train/01` directory is 1770\n",
      "Number of instances in `train/01` directory is 1770\n",
      "Number of center images in `train/01` directory is 1770\n",
      "Number of images in `train/02` directory is 5649\n",
      "Number of instances in `train/02` directory is 5649\n",
      "Number of center images in `train/02` directory is 5649\n",
      "*************************\n",
      "2-D `val` dataloader created! Accessing data from /home/user2/project/CellTrackingProject/EmbedTrack/data/crops/Fluo-N2DH-SIM+/['val/01', 'val/02']/\n",
      "Number of images in `val/01` directory is 180\n",
      "Number of instances in `val/01` directory is 180\n",
      "Number of center images in `val/01` directory is 180\n",
      "Number of images in `val/02` directory is 735\n",
      "Number of instances in `val/02` directory is 735\n",
      "Number of center images in `val/02` directory is 735\n",
      "*************************\n",
      "Creating branched erfnet with [4, 1, 2] classes\n",
      "Initialize last layer with size:  torch.Size([16, 4, 2, 2])\n",
      "*************************\n",
      "Initialize last layer with size:  torch.Size([16, 2, 2, 2])\n",
      "*************************\n",
      "Created spatial emb loss function with: n_sigma: 2, foreground_weight: 1\n",
      "*************************\n",
      "Created logger with keys:  ('train', 'val', 'iou')\n",
      "Starting epoch 0\n",
      "learning rate: 1.9999999999999998e-05\n"
     ]
    },
    {
     "name": "stderr",
     "output_type": "stream",
     "text": [
      "  0%|                                                                                                                                                                                    | 0/457 [00:00<?, ?it/s]/home/user2/miniconda3/envs/pytorch113_cu117/lib/python3.10/site-packages/torch/nn/parallel/_functions.py:68: UserWarning: Was asked to gather along dimension 0, but all input tensors were scalars; will instead unsqueeze and return a vector.\n",
      "  warnings.warn('Was asked to gather along dimension 0, but all '\n",
      "100%|██████████████████████████████████████████████████████████████████████████████████████████████████████████████████████████████████████████████████████████████████████████| 457/457 [03:39<00:00,  2.09it/s]\n",
      "100%|████████████████████████████████████████████████████████████████████████████████████████████████████████████████████████████████████████████████████████████████████████████| 52/52 [00:18<00:00,  2.77it/s]\n"
     ]
    },
    {
     "name": "stdout",
     "output_type": "stream",
     "text": [
      "===> train loss: 5.008720\n",
      "===> val loss: 4.7997, val iou: 0.0000\n",
      "=> saving checkpoint\n",
      "Starting epoch 1\n",
      "learning rate: 7.620174031281384e-05\n"
     ]
    },
    {
     "name": "stderr",
     "output_type": "stream",
     "text": [
      "  0%|                                                                                                                                                                                    | 0/457 [00:00<?, ?it/s]/home/user2/miniconda3/envs/pytorch113_cu117/lib/python3.10/site-packages/torch/nn/parallel/_functions.py:68: UserWarning: Was asked to gather along dimension 0, but all input tensors were scalars; will instead unsqueeze and return a vector.\n",
      "  warnings.warn('Was asked to gather along dimension 0, but all '\n",
      "100%|██████████████████████████████████████████████████████████████████████████████████████████████████████████████████████████████████████████████████████████████████████████| 457/457 [03:31<00:00,  2.16it/s]\n",
      "100%|████████████████████████████████████████████████████████████████████████████████████████████████████████████████████████████████████████████████████████████████████████████| 52/52 [00:18<00:00,  2.77it/s]\n"
     ]
    },
    {
     "name": "stdout",
     "output_type": "stream",
     "text": [
      "===> train loss: 2.131178\n",
      "===> val loss: 3.8663, val iou: 0.0000\n",
      "=> saving checkpoint\n",
      "Starting epoch 2\n",
      "learning rate: 0.00021848499779968073\n"
     ]
    },
    {
     "name": "stderr",
     "output_type": "stream",
     "text": [
      "  0%|                                                                                                                                                                                    | 0/457 [00:00<?, ?it/s]/home/user2/miniconda3/envs/pytorch113_cu117/lib/python3.10/site-packages/torch/nn/parallel/_functions.py:68: UserWarning: Was asked to gather along dimension 0, but all input tensors were scalars; will instead unsqueeze and return a vector.\n",
      "  warnings.warn('Was asked to gather along dimension 0, but all '\n",
      "100%|██████████████████████████████████████████████████████████████████████████████████████████████████████████████████████████████████████████████████████████████████████████| 457/457 [03:36<00:00,  2.11it/s]\n",
      "100%|████████████████████████████████████████████████████████████████████████████████████████████████████████████████████████████████████████████████████████████████████████████| 52/52 [00:18<00:00,  2.82it/s]\n"
     ]
    },
    {
     "name": "stdout",
     "output_type": "stream",
     "text": [
      "===> train loss: 1.737691\n",
      "===> val loss: 3.4539, val iou: 0.0000\n",
      "=> saving checkpoint\n",
      "Starting epoch 3\n",
      "learning rate: 0.0003802117167261162\n"
     ]
    },
    {
     "name": "stderr",
     "output_type": "stream",
     "text": [
      "  0%|                                                                                                                                                                                    | 0/457 [00:00<?, ?it/s]/home/user2/miniconda3/envs/pytorch113_cu117/lib/python3.10/site-packages/torch/nn/parallel/_functions.py:68: UserWarning: Was asked to gather along dimension 0, but all input tensors were scalars; will instead unsqueeze and return a vector.\n",
      "  warnings.warn('Was asked to gather along dimension 0, but all '\n",
      "100%|██████████████████████████████████████████████████████████████████████████████████████████████████████████████████████████████████████████████████████████████████████████| 457/457 [03:31<00:00,  2.16it/s]\n",
      "100%|████████████████████████████████████████████████████████████████████████████████████████████████████████████████████████████████████████████████████████████████████████████| 52/52 [00:19<00:00,  2.65it/s]\n"
     ]
    },
    {
     "name": "stdout",
     "output_type": "stream",
     "text": [
      "===> train loss: 1.578439\n",
      "===> val loss: 3.5399, val iou: 0.0000\n",
      "=> saving checkpoint\n",
      "Starting epoch 4\n",
      "learning rate: 0.0004856375382692291\n"
     ]
    },
    {
     "name": "stderr",
     "output_type": "stream",
     "text": [
      "  0%|                                                                                                                                                                                    | 0/457 [00:00<?, ?it/s]/home/user2/miniconda3/envs/pytorch113_cu117/lib/python3.10/site-packages/torch/nn/parallel/_functions.py:68: UserWarning: Was asked to gather along dimension 0, but all input tensors were scalars; will instead unsqueeze and return a vector.\n",
      "  warnings.warn('Was asked to gather along dimension 0, but all '\n",
      "100%|██████████████████████████████████████████████████████████████████████████████████████████████████████████████████████████████████████████████████████████████████████████| 457/457 [03:32<00:00,  2.16it/s]\n",
      "100%|████████████████████████████████████████████████████████████████████████████████████████████████████████████████████████████████████████████████████████████████████████████| 52/52 [01:00<00:00,  1.17s/it]\n"
     ]
    },
    {
     "name": "stdout",
     "output_type": "stream",
     "text": [
      "===> train loss: 1.472161\n",
      "===> val loss: 3.4081, val iou: 0.5996\n",
      "=> saving checkpoint\n",
      "Starting epoch 5\n",
      "learning rate: 0.0004971832702368266\n"
     ]
    },
    {
     "name": "stderr",
     "output_type": "stream",
     "text": [
      "  0%|                                                                                                                                                                                    | 0/457 [00:00<?, ?it/s]/home/user2/miniconda3/envs/pytorch113_cu117/lib/python3.10/site-packages/torch/nn/parallel/_functions.py:68: UserWarning: Was asked to gather along dimension 0, but all input tensors were scalars; will instead unsqueeze and return a vector.\n",
      "  warnings.warn('Was asked to gather along dimension 0, but all '\n",
      "100%|██████████████████████████████████████████████████████████████████████████████████████████████████████████████████████████████████████████████████████████████████████████| 457/457 [03:31<00:00,  2.17it/s]\n",
      "100%|████████████████████████████████████████████████████████████████████████████████████████████████████████████████████████████████████████████████████████████████████████████| 52/52 [00:40<00:00,  1.27it/s]\n"
     ]
    },
    {
     "name": "stdout",
     "output_type": "stream",
     "text": [
      "===> train loss: 1.414681\n",
      "===> val loss: 3.2006, val iou: 0.6454\n",
      "=> saving checkpoint\n",
      "Starting epoch 6\n",
      "learning rate: 0.0004751712517692197\n"
     ]
    },
    {
     "name": "stderr",
     "output_type": "stream",
     "text": [
      "  0%|                                                                                                                                                                                    | 0/457 [00:00<?, ?it/s]/home/user2/miniconda3/envs/pytorch113_cu117/lib/python3.10/site-packages/torch/nn/parallel/_functions.py:68: UserWarning: Was asked to gather along dimension 0, but all input tensors were scalars; will instead unsqueeze and return a vector.\n",
      "  warnings.warn('Was asked to gather along dimension 0, but all '\n",
      "100%|██████████████████████████████████████████████████████████████████████████████████████████████████████████████████████████████████████████████████████████████████████████| 457/457 [03:34<00:00,  2.13it/s]\n",
      "100%|████████████████████████████████████████████████████████████████████████████████████████████████████████████████████████████████████████████████████████████████████████████| 52/52 [00:43<00:00,  1.19it/s]\n"
     ]
    },
    {
     "name": "stdout",
     "output_type": "stream",
     "text": [
      "===> train loss: 1.352230\n",
      "===> val loss: 3.2750, val iou: 0.6423\n",
      "=> saving checkpoint\n",
      "Starting epoch 7\n",
      "learning rate: 0.0004331518682885435\n"
     ]
    },
    {
     "name": "stderr",
     "output_type": "stream",
     "text": [
      "  0%|                                                                                                                                                                                    | 0/457 [00:00<?, ?it/s]/home/user2/miniconda3/envs/pytorch113_cu117/lib/python3.10/site-packages/torch/nn/parallel/_functions.py:68: UserWarning: Was asked to gather along dimension 0, but all input tensors were scalars; will instead unsqueeze and return a vector.\n",
      "  warnings.warn('Was asked to gather along dimension 0, but all '\n",
      "100%|██████████████████████████████████████████████████████████████████████████████████████████████████████████████████████████████████████████████████████████████████████████| 457/457 [03:33<00:00,  2.14it/s]\n",
      "100%|████████████████████████████████████████████████████████████████████████████████████████████████████████████████████████████████████████████████████████████████████████████| 52/52 [00:39<00:00,  1.32it/s]\n"
     ]
    },
    {
     "name": "stdout",
     "output_type": "stream",
     "text": [
      "===> train loss: 1.301684\n",
      "===> val loss: 3.0905, val iou: 0.6513\n",
      "=> saving checkpoint\n",
      "Starting epoch 8\n",
      "learning rate: 0.0003748587264160831\n"
     ]
    },
    {
     "name": "stderr",
     "output_type": "stream",
     "text": [
      "  0%|                                                                                                                                                                                    | 0/457 [00:00<?, ?it/s]/home/user2/miniconda3/envs/pytorch113_cu117/lib/python3.10/site-packages/torch/nn/parallel/_functions.py:68: UserWarning: Was asked to gather along dimension 0, but all input tensors were scalars; will instead unsqueeze and return a vector.\n",
      "  warnings.warn('Was asked to gather along dimension 0, but all '\n",
      "100%|██████████████████████████████████████████████████████████████████████████████████████████████████████████████████████████████████████████████████████████████████████████| 457/457 [03:34<00:00,  2.13it/s]\n",
      "100%|████████████████████████████████████████████████████████████████████████████████████████████████████████████████████████████████████████████████████████████████████████████| 52/52 [00:35<00:00,  1.45it/s]\n"
     ]
    },
    {
     "name": "stdout",
     "output_type": "stream",
     "text": [
      "===> train loss: 1.259159\n",
      "===> val loss: 3.1745, val iou: 0.6563\n",
      "=> saving checkpoint\n",
      "Starting epoch 9\n",
      "learning rate: 0.00030547142762244627\n"
     ]
    },
    {
     "name": "stderr",
     "output_type": "stream",
     "text": [
      "  0%|                                                                                                                                                                                    | 0/457 [00:00<?, ?it/s]/home/user2/miniconda3/envs/pytorch113_cu117/lib/python3.10/site-packages/torch/nn/parallel/_functions.py:68: UserWarning: Was asked to gather along dimension 0, but all input tensors were scalars; will instead unsqueeze and return a vector.\n",
      "  warnings.warn('Was asked to gather along dimension 0, but all '\n",
      "100%|██████████████████████████████████████████████████████████████████████████████████████████████████████████████████████████████████████████████████████████████████████████| 457/457 [03:33<00:00,  2.14it/s]\n",
      "100%|████████████████████████████████████████████████████████████████████████████████████████████████████████████████████████████████████████████████████████████████████████████| 52/52 [00:38<00:00,  1.34it/s]\n"
     ]
    },
    {
     "name": "stdout",
     "output_type": "stream",
     "text": [
      "===> train loss: 1.217972\n",
      "===> val loss: 3.1788, val iou: 0.6637\n",
      "=> saving checkpoint\n",
      "Starting epoch 10\n",
      "learning rate: 0.00023115533790659298\n"
     ]
    },
    {
     "name": "stderr",
     "output_type": "stream",
     "text": [
      "  0%|                                                                                                                                                                                    | 0/457 [00:00<?, ?it/s]/home/user2/miniconda3/envs/pytorch113_cu117/lib/python3.10/site-packages/torch/nn/parallel/_functions.py:68: UserWarning: Was asked to gather along dimension 0, but all input tensors were scalars; will instead unsqueeze and return a vector.\n",
      "  warnings.warn('Was asked to gather along dimension 0, but all '\n",
      "100%|██████████████████████████████████████████████████████████████████████████████████████████████████████████████████████████████████████████████████████████████████████████| 457/457 [03:33<00:00,  2.14it/s]\n",
      "100%|████████████████████████████████████████████████████████████████████████████████████████████████████████████████████████████████████████████████████████████████████████████| 52/52 [00:37<00:00,  1.37it/s]\n"
     ]
    },
    {
     "name": "stdout",
     "output_type": "stream",
     "text": [
      "===> train loss: 1.158526\n",
      "===> val loss: 3.2377, val iou: 0.6602\n",
      "=> saving checkpoint\n",
      "Starting epoch 11\n",
      "learning rate: 0.00015851376797056474\n"
     ]
    },
    {
     "name": "stderr",
     "output_type": "stream",
     "text": [
      "  0%|                                                                                                                                                                                    | 0/457 [00:00<?, ?it/s]/home/user2/miniconda3/envs/pytorch113_cu117/lib/python3.10/site-packages/torch/nn/parallel/_functions.py:68: UserWarning: Was asked to gather along dimension 0, but all input tensors were scalars; will instead unsqueeze and return a vector.\n",
      "  warnings.warn('Was asked to gather along dimension 0, but all '\n",
      "100%|██████████████████████████████████████████████████████████████████████████████████████████████████████████████████████████████████████████████████████████████████████████| 457/457 [03:35<00:00,  2.12it/s]\n",
      "100%|████████████████████████████████████████████████████████████████████████████████████████████████████████████████████████████████████████████████████████████████████████████| 52/52 [00:35<00:00,  1.45it/s]\n"
     ]
    },
    {
     "name": "stdout",
     "output_type": "stream",
     "text": [
      "===> train loss: 1.127316\n",
      "===> val loss: 3.2010, val iou: 0.6756\n",
      "=> saving checkpoint\n",
      "Starting epoch 12\n",
      "learning rate: 9.400124008545676e-05\n"
     ]
    },
    {
     "name": "stderr",
     "output_type": "stream",
     "text": [
      "  0%|                                                                                                                                                                                    | 0/457 [00:00<?, ?it/s]/home/user2/miniconda3/envs/pytorch113_cu117/lib/python3.10/site-packages/torch/nn/parallel/_functions.py:68: UserWarning: Was asked to gather along dimension 0, but all input tensors were scalars; will instead unsqueeze and return a vector.\n",
      "  warnings.warn('Was asked to gather along dimension 0, but all '\n",
      "100%|██████████████████████████████████████████████████████████████████████████████████████████████████████████████████████████████████████████████████████████████████████████| 457/457 [03:35<00:00,  2.12it/s]\n",
      "100%|████████████████████████████████████████████████████████████████████████████████████████████████████████████████████████████████████████████████████████████████████████████| 52/52 [00:35<00:00,  1.45it/s]\n"
     ]
    },
    {
     "name": "stdout",
     "output_type": "stream",
     "text": [
      "===> train loss: 1.091997\n",
      "===> val loss: 3.0900, val iou: 0.6618\n",
      "=> saving checkpoint\n",
      "Starting epoch 13\n",
      "learning rate: 4.3349975462426465e-05\n"
     ]
    },
    {
     "name": "stderr",
     "output_type": "stream",
     "text": [
      "  0%|                                                                                                                                                                                    | 0/457 [00:00<?, ?it/s]/home/user2/miniconda3/envs/pytorch113_cu117/lib/python3.10/site-packages/torch/nn/parallel/_functions.py:68: UserWarning: Was asked to gather along dimension 0, but all input tensors were scalars; will instead unsqueeze and return a vector.\n",
      "  warnings.warn('Was asked to gather along dimension 0, but all '\n",
      "100%|██████████████████████████████████████████████████████████████████████████████████████████████████████████████████████████████████████████████████████████████████████████| 457/457 [03:36<00:00,  2.11it/s]\n",
      "100%|████████████████████████████████████████████████████████████████████████████████████████████████████████████████████████████████████████████████████████████████████████████| 52/52 [00:36<00:00,  1.43it/s]\n"
     ]
    },
    {
     "name": "stdout",
     "output_type": "stream",
     "text": [
      "===> train loss: 1.069170\n",
      "===> val loss: 3.0140, val iou: 0.6613\n",
      "=> saving checkpoint\n",
      "Starting epoch 14\n",
      "learning rate: 1.10605612426437e-05\n"
     ]
    },
    {
     "name": "stderr",
     "output_type": "stream",
     "text": [
      "  0%|                                                                                                                                                                                    | 0/457 [00:00<?, ?it/s]/home/user2/miniconda3/envs/pytorch113_cu117/lib/python3.10/site-packages/torch/nn/parallel/_functions.py:68: UserWarning: Was asked to gather along dimension 0, but all input tensors were scalars; will instead unsqueeze and return a vector.\n",
      "  warnings.warn('Was asked to gather along dimension 0, but all '\n",
      "100%|██████████████████████████████████████████████████████████████████████████████████████████████████████████████████████████████████████████████████████████████████████████| 457/457 [03:33<00:00,  2.14it/s]\n",
      "100%|████████████████████████████████████████████████████████████████████████████████████████████████████████████████████████████████████████████████████████████████████████████| 52/52 [00:36<00:00,  1.41it/s]\n"
     ]
    },
    {
     "name": "stdout",
     "output_type": "stream",
     "text": [
      "===> train loss: 1.056498\n",
      "===> val loss: 3.1532, val iou: 0.6658\n",
      "=> saving checkpoint\n"
     ]
    }
   ],
   "source": [
    "import matplotlib\n",
    "import matplotlib.pyplot as plt\n",
    "import numpy as np\n",
    "np.int = int\n",
    "np.object = object\n",
    "np.bool = bool\n",
    "\n",
    "import collections\n",
    "collections.Iterable = collections.abc.Iterable\n",
    "\n",
    "import os\n",
    "os.environ['CUDA_VISIBLE_DEVICES']='0,1'\n",
    "\n",
    "matplotlib.use(\"Agg\")\n",
    "from embedtrack.train.run_training_pipeline import (\n",
    "    DataConfig,\n",
    "    ModelConfig,\n",
    "    TrainConfig,\n",
    "    run_pipeline,\n",
    ")\n",
    "import os\n",
    "from pathlib import Path\n",
    "\n",
    "# data configs\n",
    "\n",
    "PROJECT_PATH = Path.cwd()\n",
    "\n",
    "RAW_DATA_PATH = os.path.join(PROJECT_PATH, \"ctc_raw_data/train\")\n",
    "DATA_PATH_DEST = os.path.join(PROJECT_PATH, \"data\")\n",
    "MODEL_PATH = os.path.join(PROJECT_PATH, \"models\")\n",
    "\n",
    "USE_SILVER_TRUTH = True\n",
    "TRAIN_VAL_SEQUNCES = [\"01\", \"02\"]\n",
    "TRAIN_VAL_SPLIT = 0.1\n",
    "\n",
    "N_EPOCHS = 15\n",
    "# Adam optimizer; normalize images; OneCycle LR sheduler; N epochs\n",
    "MODEL_NAME = \"adam_norm_onecycle_\" + str(N_EPOCHS)\n",
    "\n",
    "if data_set == \"Fluo-N2DH-SIM+\":\n",
    "    use_silver_truth = False\n",
    "else:\n",
    "    use_silver_truth = USE_SILVER_TRUTH\n",
    "\n",
    "data_config = DataConfig(\n",
    "    RAW_DATA_PATH,\n",
    "    data_set,\n",
    "    DATA_PATH_DEST,\n",
    "    use_silver_truth=use_silver_truth,\n",
    "    train_val_sequences=TRAIN_VAL_SEQUNCES,\n",
    "    train_val_split=TRAIN_VAL_SPLIT,\n",
    ")\n",
    "\n",
    "# train configs\n",
    "MODEL_SAVE_DIR = os.path.join(\n",
    "    MODEL_PATH,\n",
    "    data_set,\n",
    "    MODEL_NAME,\n",
    ")\n",
    "if data_set != \"Fluo-C2DL-MSC\":\n",
    "    CROP_SIZE = 256\n",
    "    TRAIN_BATCH_SIZE = 16\n",
    "    VAL_BATCH_SIZE = 16\n",
    "    DISPLAY_IT = 1000\n",
    "\n",
    "else:\n",
    "    CROP_SIZE = 512\n",
    "    TRAIN_BATCH_SIZE = 8\n",
    "    VAL_BATCH_SIZE = 8\n",
    "    DISPLAY_IT = 200\n",
    "\n",
    "CENTER = \"medoid\"\n",
    "RESUME_TRAINING = False\n",
    "TRAIN_SIZE = None  # if None training on full train data set; otherwise still training on full data set but only use a fraction of the data per epoch\n",
    "VAL_SIZE = None  # if None validation on full val data set; otherwise still val on full data set but only use a fraction of the data per epoch\n",
    "VIRTUAL_TRAIN_BATCH_MULTIPLIER = 1\n",
    "VIRTUAL_VAL_BATCH_MULTIPLIER = 1\n",
    "DISPLAY = False\n",
    "\n",
    "train_config = TrainConfig(\n",
    "    MODEL_SAVE_DIR,\n",
    "    crop_size=CROP_SIZE,\n",
    "    center=CENTER,\n",
    "    resume_training=RESUME_TRAINING,\n",
    "    train_size=TRAIN_SIZE,\n",
    "    train_batch_size=TRAIN_BATCH_SIZE,\n",
    "    virtual_train_batch_multiplier=VIRTUAL_TRAIN_BATCH_MULTIPLIER,\n",
    "    val_size=VAL_SIZE,\n",
    "    val_batch_size=VAL_BATCH_SIZE,\n",
    "    virtual_val_batch_multiplier=VIRTUAL_VAL_BATCH_MULTIPLIER,\n",
    "    n_epochs=N_EPOCHS,\n",
    "    display=DISPLAY,\n",
    "    display_it=DISPLAY_IT,\n",
    ")\n",
    "\n",
    "# model config\n",
    "INPUT_CHANNELS = 1\n",
    "N_SEG_CLASSES = [4, 1]\n",
    "N_TRACK_CLASSES = 2\n",
    "\n",
    "model_config = ModelConfig(INPUT_CHANNELS, N_SEG_CLASSES, N_TRACK_CLASSES)\n",
    "\n",
    "run_pipeline(data_config, train_config, model_config)\n",
    "plt.close(\"all\")\n"
   ]
  },
  {
   "cell_type": "markdown",
   "metadata": {
    "id": "c-4C4rUrqck5"
   },
   "source": [
    "### 2.4.) Inference using the just trained model"
   ]
  },
  {
   "cell_type": "code",
   "execution_count": 5,
   "metadata": {
    "id": "T9T4UvbwjL9H"
   },
   "outputs": [],
   "source": [
    "# make CTC metrics executable\n",
    "current_path = Path.cwd()\n",
    "ctc_metrics_path = os.path.join(current_path, \"embedtrack\", \"ctc_metrics\", \"CTC_eval\")\n",
    "!chmod -R 755 $ctc_metrics_path"
   ]
  },
  {
   "cell_type": "code",
   "execution_count": 6,
   "metadata": {
    "id": "v62G_sR45aC1"
   },
   "outputs": [
    {
     "name": "stdout",
     "output_type": "stream",
     "text": [
      "`model_dict` dictionary successfully created with: \n",
      " -- num of classes equal to [4, 1, 2], \n",
      " -- input channels equal to 1, \n",
      " -- name equal to 2d\n",
      "Creating branched erfnet with [4, 1, 2] classes\n",
      "Save tracking mask t109.tif\n",
      "Save tracking mask t108.tif\n",
      "Save tracking mask t107.tif\n",
      "Save tracking mask t106.tif\n",
      "Save tracking mask t105.tif\n",
      "Save tracking mask t104.tif\n",
      "Save tracking mask t103.tif\n",
      "Save tracking mask t102.tif\n",
      "Save tracking mask t101.tif\n",
      "Save tracking mask t100.tif\n",
      "Save tracking mask t099.tif\n",
      "Save tracking mask t098.tif\n",
      "Save tracking mask t097.tif\n",
      "Save tracking mask t096.tif\n",
      "Save tracking mask t095.tif\n",
      "Save tracking mask t094.tif\n",
      "Save tracking mask t093.tif\n",
      "Save tracking mask t092.tif\n",
      "Save tracking mask t091.tif\n",
      "Save tracking mask t090.tif\n",
      "Save tracking mask t089.tif\n",
      "Save tracking mask t088.tif\n",
      "Save tracking mask t087.tif\n",
      "Save tracking mask t086.tif\n",
      "Save tracking mask t085.tif\n",
      "Save tracking mask t084.tif\n",
      "Save tracking mask t083.tif\n",
      "Save tracking mask t082.tif\n",
      "Save tracking mask t081.tif\n",
      "Save tracking mask t080.tif\n",
      "Save tracking mask t079.tif\n",
      "Save tracking mask t078.tif\n",
      "Save tracking mask t077.tif\n",
      "Save tracking mask t076.tif\n",
      "Save tracking mask t075.tif\n",
      "Save tracking mask t074.tif\n",
      "Save tracking mask t073.tif\n",
      "Save tracking mask t072.tif\n",
      "Save tracking mask t071.tif\n",
      "Save tracking mask t070.tif\n",
      "Save tracking mask t069.tif\n",
      "Save tracking mask t068.tif\n",
      "Save tracking mask t067.tif\n",
      "Save tracking mask t066.tif\n",
      "Save tracking mask t065.tif\n",
      "Save tracking mask t064.tif\n",
      "Save tracking mask t063.tif\n",
      "Save tracking mask t062.tif\n",
      "Save tracking mask t061.tif\n",
      "Save tracking mask t060.tif\n",
      "Save tracking mask t059.tif\n",
      "Save tracking mask t058.tif\n",
      "Save tracking mask t057.tif\n",
      "Save tracking mask t056.tif\n",
      "Save tracking mask t055.tif\n",
      "Save tracking mask t054.tif\n",
      "Save tracking mask t053.tif\n",
      "Save tracking mask t052.tif\n",
      "Save tracking mask t051.tif\n",
      "Save tracking mask t050.tif\n",
      "Save tracking mask t049.tif\n",
      "Save tracking mask t048.tif\n",
      "Save tracking mask t047.tif\n",
      "Save tracking mask t046.tif\n",
      "Save tracking mask t045.tif\n",
      "Save tracking mask t044.tif\n",
      "Save tracking mask t043.tif\n",
      "Save tracking mask t042.tif\n",
      "Save tracking mask t041.tif\n",
      "Save tracking mask t040.tif\n",
      "Save tracking mask t039.tif\n",
      "Save tracking mask t038.tif\n",
      "Save tracking mask t037.tif\n",
      "Save tracking mask t036.tif\n",
      "Save tracking mask t035.tif\n",
      "Save tracking mask t034.tif\n",
      "Save tracking mask t033.tif\n",
      "Save tracking mask t032.tif\n",
      "Save tracking mask t031.tif\n",
      "Save tracking mask t030.tif\n",
      "Save tracking mask t029.tif\n",
      "Save tracking mask t028.tif\n",
      "Save tracking mask t027.tif\n",
      "Save tracking mask t026.tif\n",
      "Save tracking mask t025.tif\n",
      "Save tracking mask t024.tif\n",
      "Save tracking mask t023.tif\n",
      "Save tracking mask t022.tif\n",
      "Save tracking mask t021.tif\n",
      "Save tracking mask t020.tif\n",
      "Save tracking mask t019.tif\n",
      "Save tracking mask t018.tif\n",
      "Save tracking mask t017.tif\n",
      "Save tracking mask t016.tif\n",
      "Save tracking mask t015.tif\n",
      "Save tracking mask t014.tif\n",
      "Save tracking mask t013.tif\n",
      "Save tracking mask t012.tif\n",
      "Save tracking mask t011.tif\n",
      "Save tracking mask t010.tif\n",
      "Save tracking mask t009.tif\n",
      "Save tracking mask t008.tif\n",
      "Save tracking mask t007.tif\n",
      "Save tracking mask t006.tif\n",
      "Save tracking mask t005.tif\n",
      "Save tracking mask t004.tif\n",
      "Save tracking mask t003.tif\n",
      "Save tracking mask t002.tif\n",
      "Save tracking mask t001.tif\n",
      "Save tracking mask t000.tif\n",
      "Image sequence: /home/user2/project/CellTrackingProject/EmbedTrack/ctc_raw_data/challenge/Fluo-N2DH-SIM+/01\n",
      "Inference Time /home/user2/project/CellTrackingProject/EmbedTrack/ctc_raw_data/challenge/Fluo-N2DH-SIM+/01: 185.37500762939453s\n",
      "`model_dict` dictionary successfully created with: \n",
      " -- num of classes equal to [4, 1, 2], \n",
      " -- input channels equal to 1, \n",
      " -- name equal to 2d\n",
      "Creating branched erfnet with [4, 1, 2] classes\n",
      "Save tracking mask t137.tif\n",
      "Save tracking mask t136.tif\n",
      "Save tracking mask t135.tif\n",
      "Save tracking mask t134.tif\n",
      "Save tracking mask t133.tif\n",
      "Save tracking mask t132.tif\n",
      "Save tracking mask t131.tif\n",
      "Save tracking mask t130.tif\n",
      "Save tracking mask t129.tif\n",
      "Save tracking mask t128.tif\n",
      "Save tracking mask t127.tif\n",
      "Save tracking mask t126.tif\n",
      "Save tracking mask t125.tif\n",
      "Save tracking mask t124.tif\n",
      "Save tracking mask t123.tif\n",
      "Save tracking mask t122.tif\n",
      "Save tracking mask t121.tif\n",
      "Save tracking mask t120.tif\n",
      "Save tracking mask t119.tif\n",
      "Save tracking mask t118.tif\n",
      "Save tracking mask t117.tif\n",
      "Save tracking mask t116.tif\n",
      "Save tracking mask t115.tif\n",
      "Save tracking mask t114.tif\n",
      "Save tracking mask t113.tif\n",
      "Save tracking mask t112.tif\n",
      "Save tracking mask t111.tif\n",
      "Save tracking mask t110.tif\n",
      "Save tracking mask t109.tif\n",
      "Save tracking mask t108.tif\n",
      "Save tracking mask t107.tif\n",
      "Save tracking mask t106.tif\n",
      "Save tracking mask t105.tif\n",
      "Save tracking mask t104.tif\n",
      "Save tracking mask t103.tif\n",
      "Save tracking mask t102.tif\n",
      "Save tracking mask t101.tif\n",
      "Save tracking mask t100.tif\n",
      "Save tracking mask t099.tif\n",
      "Save tracking mask t098.tif\n",
      "Save tracking mask t097.tif\n",
      "Save tracking mask t096.tif\n",
      "Save tracking mask t095.tif\n",
      "Save tracking mask t094.tif\n",
      "Save tracking mask t093.tif\n",
      "Save tracking mask t092.tif\n",
      "Save tracking mask t091.tif\n",
      "Save tracking mask t090.tif\n",
      "Save tracking mask t089.tif\n",
      "Save tracking mask t088.tif\n",
      "Save tracking mask t087.tif\n",
      "Save tracking mask t086.tif\n",
      "Save tracking mask t085.tif\n",
      "Save tracking mask t084.tif\n",
      "Save tracking mask t083.tif\n",
      "Save tracking mask t082.tif\n",
      "Save tracking mask t081.tif\n",
      "Save tracking mask t080.tif\n",
      "Save tracking mask t079.tif\n",
      "Save tracking mask t078.tif\n",
      "Save tracking mask t077.tif\n",
      "Save tracking mask t076.tif\n",
      "Save tracking mask t075.tif\n",
      "Save tracking mask t074.tif\n",
      "Save tracking mask t073.tif\n",
      "Save tracking mask t072.tif\n",
      "Save tracking mask t071.tif\n",
      "Save tracking mask t070.tif\n",
      "Save tracking mask t069.tif\n",
      "Save tracking mask t068.tif\n",
      "Save tracking mask t067.tif\n",
      "Save tracking mask t066.tif\n",
      "Save tracking mask t065.tif\n",
      "Save tracking mask t064.tif\n",
      "Save tracking mask t063.tif\n",
      "Save tracking mask t062.tif\n",
      "Save tracking mask t061.tif\n",
      "Save tracking mask t060.tif\n",
      "Save tracking mask t059.tif\n",
      "Save tracking mask t058.tif\n",
      "Save tracking mask t057.tif\n",
      "Save tracking mask t056.tif\n",
      "Save tracking mask t055.tif\n",
      "Save tracking mask t054.tif\n",
      "Save tracking mask t053.tif\n",
      "Save tracking mask t052.tif\n",
      "Save tracking mask t051.tif\n",
      "Save tracking mask t050.tif\n",
      "Save tracking mask t049.tif\n",
      "Save tracking mask t048.tif\n",
      "Save tracking mask t047.tif\n",
      "Save tracking mask t046.tif\n",
      "Save tracking mask t045.tif\n",
      "Save tracking mask t044.tif\n",
      "Save tracking mask t043.tif\n",
      "Save tracking mask t042.tif\n",
      "Save tracking mask t041.tif\n",
      "Save tracking mask t040.tif\n",
      "Save tracking mask t039.tif\n",
      "Save tracking mask t038.tif\n",
      "Save tracking mask t037.tif\n",
      "Save tracking mask t036.tif\n",
      "Save tracking mask t035.tif\n",
      "Save tracking mask t034.tif\n",
      "Save tracking mask t033.tif\n",
      "Save tracking mask t032.tif\n",
      "Save tracking mask t031.tif\n",
      "Save tracking mask t030.tif\n",
      "Save tracking mask t029.tif\n",
      "Save tracking mask t028.tif\n",
      "Save tracking mask t027.tif\n",
      "Save tracking mask t026.tif\n",
      "Save tracking mask t025.tif\n",
      "Save tracking mask t024.tif\n",
      "Save tracking mask t023.tif\n",
      "Save tracking mask t022.tif\n",
      "Save tracking mask t021.tif\n",
      "Save tracking mask t020.tif\n",
      "Save tracking mask t019.tif\n",
      "Save tracking mask t018.tif\n",
      "Save tracking mask t017.tif\n",
      "Save tracking mask t016.tif\n",
      "Save tracking mask t015.tif\n",
      "Save tracking mask t014.tif\n",
      "Save tracking mask t013.tif\n",
      "Save tracking mask t012.tif\n",
      "Save tracking mask t011.tif\n",
      "Save tracking mask t010.tif\n",
      "Save tracking mask t009.tif\n",
      "Save tracking mask t008.tif\n",
      "Save tracking mask t007.tif\n",
      "Save tracking mask t006.tif\n",
      "Save tracking mask t005.tif\n",
      "Save tracking mask t004.tif\n",
      "Save tracking mask t003.tif\n",
      "Save tracking mask t002.tif\n",
      "Save tracking mask t001.tif\n",
      "Save tracking mask t000.tif\n",
      "Image sequence: /home/user2/project/CellTrackingProject/EmbedTrack/ctc_raw_data/challenge/Fluo-N2DH-SIM+/02\n",
      "Inference Time /home/user2/project/CellTrackingProject/EmbedTrack/ctc_raw_data/challenge/Fluo-N2DH-SIM+/02: 238.31991720199585s\n",
      "`model_dict` dictionary successfully created with: \n",
      " -- num of classes equal to [4, 1, 2], \n",
      " -- input channels equal to 1, \n",
      " -- name equal to 2d\n",
      "Creating branched erfnet with [4, 1, 2] classes\n",
      "Save tracking mask t064.tif\n",
      "Save tracking mask t063.tif\n",
      "Save tracking mask t062.tif\n",
      "Save tracking mask t061.tif\n",
      "Save tracking mask t060.tif\n",
      "Save tracking mask t059.tif\n",
      "Save tracking mask t058.tif\n",
      "Save tracking mask t057.tif\n",
      "Save tracking mask t056.tif\n",
      "Save tracking mask t055.tif\n",
      "Save tracking mask t054.tif\n",
      "Save tracking mask t053.tif\n",
      "Save tracking mask t052.tif\n",
      "Save tracking mask t051.tif\n",
      "Save tracking mask t050.tif\n",
      "Save tracking mask t049.tif\n",
      "Save tracking mask t048.tif\n",
      "Save tracking mask t047.tif\n",
      "Save tracking mask t046.tif\n",
      "Save tracking mask t045.tif\n",
      "Save tracking mask t044.tif\n",
      "Save tracking mask t043.tif\n",
      "Save tracking mask t042.tif\n",
      "Save tracking mask t041.tif\n",
      "Save tracking mask t040.tif\n",
      "Save tracking mask t039.tif\n",
      "Save tracking mask t038.tif\n",
      "Save tracking mask t037.tif\n",
      "Save tracking mask t036.tif\n",
      "Save tracking mask t035.tif\n",
      "Save tracking mask t034.tif\n",
      "Save tracking mask t033.tif\n",
      "Save tracking mask t032.tif\n",
      "Save tracking mask t031.tif\n",
      "Save tracking mask t030.tif\n",
      "Save tracking mask t029.tif\n",
      "Save tracking mask t028.tif\n",
      "Save tracking mask t027.tif\n",
      "Save tracking mask t026.tif\n",
      "Save tracking mask t025.tif\n",
      "Save tracking mask t024.tif\n",
      "Save tracking mask t023.tif\n",
      "Save tracking mask t022.tif\n",
      "Save tracking mask t021.tif\n",
      "Save tracking mask t020.tif\n",
      "Save tracking mask t019.tif\n",
      "Save tracking mask t018.tif\n",
      "Save tracking mask t017.tif\n",
      "Save tracking mask t016.tif\n",
      "Save tracking mask t015.tif\n",
      "Save tracking mask t014.tif\n",
      "Save tracking mask t013.tif\n",
      "Save tracking mask t012.tif\n",
      "Save tracking mask t011.tif\n",
      "Save tracking mask t010.tif\n",
      "Save tracking mask t009.tif\n",
      "Save tracking mask t008.tif\n",
      "Save tracking mask t007.tif\n",
      "Save tracking mask t006.tif\n",
      "Save tracking mask t005.tif\n",
      "Save tracking mask t004.tif\n",
      "Save tracking mask t003.tif\n",
      "Save tracking mask t002.tif\n",
      "Save tracking mask t001.tif\n",
      "Save tracking mask t000.tif\n",
      "Image sequence: /home/user2/project/CellTrackingProject/EmbedTrack/ctc_raw_data/train/Fluo-N2DH-SIM+/01\n",
      "Inference Time /home/user2/project/CellTrackingProject/EmbedTrack/ctc_raw_data/train/Fluo-N2DH-SIM+/01: 105.68333911895752s\n",
      "b'SEG measure: 0.889412\\n'\n",
      "b'TRA measure: 0.983643\\n'\n",
      "b'DET measure: 0.983928\\n'\n",
      "/home/user2/project/CellTrackingProject/EmbedTrack/results/Fluo-N2DH-SIM+/adam_norm_onecycle_15/2024-03-04---12-24-43/train/01_RES\n",
      "{'SEG': 0.889412, 'TRA': 0.983643, 'DET': 0.983928}\n",
      "`model_dict` dictionary successfully created with: \n",
      " -- num of classes equal to [4, 1, 2], \n",
      " -- input channels equal to 1, \n",
      " -- name equal to 2d\n",
      "Creating branched erfnet with [4, 1, 2] classes\n",
      "Save tracking mask t149.tif\n",
      "Save tracking mask t148.tif\n",
      "Save tracking mask t147.tif\n",
      "Save tracking mask t146.tif\n",
      "Save tracking mask t145.tif\n",
      "Save tracking mask t144.tif\n",
      "Save tracking mask t143.tif\n",
      "Save tracking mask t142.tif\n",
      "Save tracking mask t141.tif\n",
      "Save tracking mask t140.tif\n",
      "Save tracking mask t139.tif\n",
      "Save tracking mask t138.tif\n",
      "Save tracking mask t137.tif\n",
      "Save tracking mask t136.tif\n",
      "Save tracking mask t135.tif\n",
      "Save tracking mask t134.tif\n",
      "Save tracking mask t133.tif\n",
      "Save tracking mask t132.tif\n",
      "Save tracking mask t131.tif\n",
      "Save tracking mask t130.tif\n",
      "Save tracking mask t129.tif\n",
      "Save tracking mask t128.tif\n",
      "Save tracking mask t127.tif\n",
      "Save tracking mask t126.tif\n",
      "Save tracking mask t125.tif\n",
      "Save tracking mask t124.tif\n",
      "Save tracking mask t123.tif\n",
      "Save tracking mask t122.tif\n",
      "Save tracking mask t121.tif\n",
      "Save tracking mask t120.tif\n",
      "Save tracking mask t119.tif\n",
      "Save tracking mask t118.tif\n",
      "Save tracking mask t117.tif\n",
      "Save tracking mask t116.tif\n",
      "Save tracking mask t115.tif\n",
      "Save tracking mask t114.tif\n",
      "Save tracking mask t113.tif\n",
      "Save tracking mask t112.tif\n",
      "Save tracking mask t111.tif\n",
      "Save tracking mask t110.tif\n",
      "Save tracking mask t109.tif\n",
      "Save tracking mask t108.tif\n",
      "Save tracking mask t107.tif\n",
      "Save tracking mask t106.tif\n",
      "Save tracking mask t105.tif\n",
      "Save tracking mask t104.tif\n",
      "Save tracking mask t103.tif\n",
      "Save tracking mask t102.tif\n",
      "Save tracking mask t101.tif\n",
      "Save tracking mask t100.tif\n",
      "Save tracking mask t099.tif\n",
      "Save tracking mask t098.tif\n",
      "Save tracking mask t097.tif\n",
      "Save tracking mask t096.tif\n",
      "Save tracking mask t095.tif\n",
      "Save tracking mask t094.tif\n",
      "Save tracking mask t093.tif\n",
      "Save tracking mask t092.tif\n",
      "Save tracking mask t091.tif\n",
      "Save tracking mask t090.tif\n",
      "Save tracking mask t089.tif\n",
      "Save tracking mask t088.tif\n",
      "Save tracking mask t087.tif\n",
      "Save tracking mask t086.tif\n",
      "Save tracking mask t085.tif\n",
      "Save tracking mask t084.tif\n",
      "Save tracking mask t083.tif\n",
      "Save tracking mask t082.tif\n",
      "Save tracking mask t081.tif\n",
      "Save tracking mask t080.tif\n",
      "Save tracking mask t079.tif\n",
      "Save tracking mask t078.tif\n",
      "Save tracking mask t077.tif\n",
      "Save tracking mask t076.tif\n",
      "Save tracking mask t075.tif\n",
      "Save tracking mask t074.tif\n",
      "Save tracking mask t073.tif\n",
      "Save tracking mask t072.tif\n",
      "Save tracking mask t071.tif\n",
      "Save tracking mask t070.tif\n",
      "Save tracking mask t069.tif\n",
      "Save tracking mask t068.tif\n",
      "Save tracking mask t067.tif\n",
      "Save tracking mask t066.tif\n",
      "Save tracking mask t065.tif\n",
      "Save tracking mask t064.tif\n",
      "Save tracking mask t063.tif\n",
      "Save tracking mask t062.tif\n",
      "Save tracking mask t061.tif\n",
      "Save tracking mask t060.tif\n",
      "Save tracking mask t059.tif\n",
      "Save tracking mask t058.tif\n",
      "Save tracking mask t057.tif\n",
      "Save tracking mask t056.tif\n",
      "Save tracking mask t055.tif\n",
      "Save tracking mask t054.tif\n",
      "Save tracking mask t053.tif\n",
      "Save tracking mask t052.tif\n",
      "Save tracking mask t051.tif\n",
      "Save tracking mask t050.tif\n",
      "Save tracking mask t049.tif\n",
      "Save tracking mask t048.tif\n",
      "Save tracking mask t047.tif\n",
      "Save tracking mask t046.tif\n",
      "Save tracking mask t045.tif\n",
      "Save tracking mask t044.tif\n",
      "Save tracking mask t043.tif\n",
      "Save tracking mask t042.tif\n",
      "Save tracking mask t041.tif\n",
      "Save tracking mask t040.tif\n",
      "Save tracking mask t039.tif\n",
      "Save tracking mask t038.tif\n",
      "Save tracking mask t037.tif\n",
      "Save tracking mask t036.tif\n",
      "Save tracking mask t035.tif\n",
      "Save tracking mask t034.tif\n",
      "Save tracking mask t033.tif\n",
      "Save tracking mask t032.tif\n",
      "Save tracking mask t031.tif\n",
      "Save tracking mask t030.tif\n",
      "Save tracking mask t029.tif\n",
      "Save tracking mask t028.tif\n",
      "Save tracking mask t027.tif\n",
      "Save tracking mask t026.tif\n",
      "Save tracking mask t025.tif\n",
      "Save tracking mask t024.tif\n",
      "Save tracking mask t023.tif\n",
      "Save tracking mask t022.tif\n",
      "Save tracking mask t021.tif\n",
      "Save tracking mask t020.tif\n",
      "Save tracking mask t019.tif\n",
      "Save tracking mask t018.tif\n",
      "Save tracking mask t017.tif\n",
      "Save tracking mask t016.tif\n",
      "Save tracking mask t015.tif\n",
      "Save tracking mask t014.tif\n",
      "Save tracking mask t013.tif\n",
      "Save tracking mask t012.tif\n",
      "Save tracking mask t011.tif\n",
      "Save tracking mask t010.tif\n",
      "Save tracking mask t009.tif\n",
      "Save tracking mask t008.tif\n",
      "Save tracking mask t007.tif\n",
      "Save tracking mask t006.tif\n",
      "Save tracking mask t005.tif\n",
      "Save tracking mask t004.tif\n",
      "Save tracking mask t003.tif\n",
      "Save tracking mask t002.tif\n",
      "Save tracking mask t001.tif\n",
      "Save tracking mask t000.tif\n",
      "Image sequence: /home/user2/project/CellTrackingProject/EmbedTrack/ctc_raw_data/train/Fluo-N2DH-SIM+/02\n",
      "Inference Time /home/user2/project/CellTrackingProject/EmbedTrack/ctc_raw_data/train/Fluo-N2DH-SIM+/02: 290.49714159965515s\n",
      "b'SEG measure: 0.780475\\n'\n",
      "b'TRA measure: 0.960236\\n'\n",
      "b'DET measure: 0.964729\\n'\n",
      "/home/user2/project/CellTrackingProject/EmbedTrack/results/Fluo-N2DH-SIM+/adam_norm_onecycle_15/2024-03-04---12-24-43/train/02_RES\n",
      "{'SEG': 0.780475, 'TRA': 0.960236, 'DET': 0.964729}\n"
     ]
    }
   ],
   "source": [
    "import os\n",
    "from datetime import datetime\n",
    "from pathlib import Path\n",
    "from time import time\n",
    "import shutil\n",
    "from embedtrack.ctc_metrics.eval_ctc import calc_ctc_scores\n",
    "from embedtrack.infer.infer_ctc_data import inference\n",
    "\n",
    "PROJECT_PATH = Path.cwd()\n",
    "\n",
    "RAW_DATA_PATHS = [os.path.join(PROJECT_PATH, \"ctc_raw_data/challenge\"),\n",
    "                  os.path.join(PROJECT_PATH, \"ctc_raw_data/train\")]\n",
    "MODEL_PATH = os.path.join(PROJECT_PATH, \"models\")\n",
    "RES_PATH = os.path.join(PROJECT_PATH, \"results\")\n",
    "\n",
    "# Adam optimizer; normalize images; OneCycle LR sheduler; N epochs\n",
    "MODEL_NAME = \"adam_norm_onecycle_15\"\n",
    "BATCH_SIZE = 32\n",
    "\n",
    "for raw_data_path in RAW_DATA_PATHS:\n",
    "      for data_id in [\"01\", \"02\"]:\n",
    "          img_path = os.path.join(raw_data_path, data_set, data_id)\n",
    "\n",
    "          model_dir = os.path.join(MODEL_PATH, data_set, MODEL_NAME)\n",
    "          if not os.path.exists(model_dir):\n",
    "              print(f\"no trained model for data set {data_set}\")\n",
    "              continue\n",
    "\n",
    "          # time stamps\n",
    "          timestamps_trained_models = [\n",
    "              datetime.strptime(time_stamp, \"%Y-%m-%d---%H-%M-%S\")\n",
    "              for time_stamp in os.listdir(model_dir)\n",
    "          ]\n",
    "          timestamps_trained_models.sort()\n",
    "          last_model = timestamps_trained_models[-1].strftime(\"%Y-%m-%d---%H-%M-%S\")\n",
    "          model_path = os.path.join(model_dir, last_model, \"best_iou_model.pth\")\n",
    "          config_file = os.path.join(model_dir, last_model, \"config.json\")\n",
    "          t_start = time()\n",
    "          inference(img_path, model_path, config_file, batch_size=BATCH_SIZE)\n",
    "          t_end = time()\n",
    "\n",
    "          run_time = t_end - t_start\n",
    "          print(f\"Image sequence: {img_path}\")\n",
    "          print(f\"Inference Time {img_path}: {run_time}s\")\n",
    "\n",
    "          res_path = os.path.join(RES_PATH, data_set, MODEL_NAME, last_model, os.path.basename(raw_data_path), data_id+\"_RES\")\n",
    "          if not os.path.exists(os.path.dirname(res_path)):\n",
    "            os.makedirs(os.path.dirname(res_path))\n",
    "          shutil.move(img_path+\"_RES\", res_path)\n",
    "          if os.path.basename(raw_data_path) == \"train\":\n",
    "            metrics = calc_ctc_scores(Path(res_path), Path(img_path+\"_GT\"))\n",
    "            print(metrics)\n",
    "\n"
   ]
  },
  {
   "cell_type": "markdown",
   "metadata": {
    "id": "SScwJ45yqU24"
   },
   "source": [
    "## 3.) Visualization\n",
    "\n",
    "Calculate metrics as well as visualization."
   ]
  },
  {
   "cell_type": "code",
   "execution_count": 9,
   "metadata": {},
   "outputs": [
    {
     "data": {
      "text/html": [
       "<div>\n",
       "<style scoped>\n",
       "    .dataframe tbody tr th:only-of-type {\n",
       "        vertical-align: middle;\n",
       "    }\n",
       "\n",
       "    .dataframe tbody tr th {\n",
       "        vertical-align: top;\n",
       "    }\n",
       "\n",
       "    .dataframe thead th {\n",
       "        text-align: right;\n",
       "    }\n",
       "</style>\n",
       "<table border=\"1\" class=\"dataframe\">\n",
       "  <thead>\n",
       "    <tr style=\"text-align: right;\">\n",
       "      <th></th>\n",
       "      <th>cell_id</th>\n",
       "      <th>t_start</th>\n",
       "      <th>t_end</th>\n",
       "      <th>predecessor</th>\n",
       "    </tr>\n",
       "  </thead>\n",
       "  <tbody>\n",
       "    <tr>\n",
       "      <th>0</th>\n",
       "      <td>1</td>\n",
       "      <td>104</td>\n",
       "      <td>149</td>\n",
       "      <td>93</td>\n",
       "    </tr>\n",
       "    <tr>\n",
       "      <th>1</th>\n",
       "      <td>2</td>\n",
       "      <td>94</td>\n",
       "      <td>149</td>\n",
       "      <td>99</td>\n",
       "    </tr>\n",
       "    <tr>\n",
       "      <th>2</th>\n",
       "      <td>3</td>\n",
       "      <td>149</td>\n",
       "      <td>149</td>\n",
       "      <td>54</td>\n",
       "    </tr>\n",
       "    <tr>\n",
       "      <th>3</th>\n",
       "      <td>4</td>\n",
       "      <td>139</td>\n",
       "      <td>149</td>\n",
       "      <td>77</td>\n",
       "    </tr>\n",
       "    <tr>\n",
       "      <th>4</th>\n",
       "      <td>5</td>\n",
       "      <td>104</td>\n",
       "      <td>149</td>\n",
       "      <td>92</td>\n",
       "    </tr>\n",
       "    <tr>\n",
       "      <th>...</th>\n",
       "      <td>...</td>\n",
       "      <td>...</td>\n",
       "      <td>...</td>\n",
       "      <td>...</td>\n",
       "    </tr>\n",
       "    <tr>\n",
       "      <th>117</th>\n",
       "      <td>118</td>\n",
       "      <td>0</td>\n",
       "      <td>28</td>\n",
       "      <td>0</td>\n",
       "    </tr>\n",
       "    <tr>\n",
       "      <th>118</th>\n",
       "      <td>119</td>\n",
       "      <td>0</td>\n",
       "      <td>27</td>\n",
       "      <td>0</td>\n",
       "    </tr>\n",
       "    <tr>\n",
       "      <th>119</th>\n",
       "      <td>120</td>\n",
       "      <td>0</td>\n",
       "      <td>24</td>\n",
       "      <td>0</td>\n",
       "    </tr>\n",
       "    <tr>\n",
       "      <th>120</th>\n",
       "      <td>121</td>\n",
       "      <td>0</td>\n",
       "      <td>23</td>\n",
       "      <td>0</td>\n",
       "    </tr>\n",
       "    <tr>\n",
       "      <th>121</th>\n",
       "      <td>122</td>\n",
       "      <td>0</td>\n",
       "      <td>14</td>\n",
       "      <td>0</td>\n",
       "    </tr>\n",
       "  </tbody>\n",
       "</table>\n",
       "<p>122 rows × 4 columns</p>\n",
       "</div>"
      ],
      "text/plain": [
       "     cell_id  t_start  t_end  predecessor\n",
       "0          1      104    149           93\n",
       "1          2       94    149           99\n",
       "2          3      149    149           54\n",
       "3          4      139    149           77\n",
       "4          5      104    149           92\n",
       "..       ...      ...    ...          ...\n",
       "117      118        0     28            0\n",
       "118      119        0     27            0\n",
       "119      120        0     24            0\n",
       "120      121        0     23            0\n",
       "121      122        0     14            0\n",
       "\n",
       "[122 rows x 4 columns]"
      ]
     },
     "execution_count": 9,
     "metadata": {},
     "output_type": "execute_result"
    }
   ],
   "source": [
    "# process res_track.txt\n",
    "import pandas as pd\n",
    "from pathlib import Path\n",
    "\n",
    "lineage_file = Path(res_path) / \"res_track.txt\"\n",
    "lineage = pd.read_csv(\n",
    "    lineage_file,\n",
    "    delimiter=\" \",\n",
    "    header=None,\n",
    "    names=[\"cell_id\", \"t_start\", \"t_end\", \"predecessor\"],\n",
    ")\n",
    "lineage"
   ]
  },
  {
   "cell_type": "code",
   "execution_count": 25,
   "metadata": {
    "id": "Jho1KTBq2NTy"
   },
   "outputs": [],
   "source": [
    "from pathlib import Path\n",
    "import re\n",
    "import subprocess\n",
    "import numpy as np\n",
    "from tqdm import tqdm\n",
    "import tifffile\n",
    "import matplotlib.pyplot as plt\n",
    "from datetime import datetime\n",
    "import cv2\n",
    "\n",
    "class CellRes:\n",
    "    '''This class reads in the dataset of cell tracking challenge,\n",
    "    And then do some visualization.\n",
    "\n",
    "    Args:\n",
    "        root_folder (str): The root folder of the dataset.\n",
    "        dataset_select (int): The index of the dataset to be selected. [0, 8]\n",
    "\n",
    "\n",
    "    Usage:\n",
    "        cellres = CellRes(0, exp='xxx')\n",
    "        cellres.make_video()\n",
    "        cellres.evaluate_metrics()\n",
    "    '''\n",
    "    PALETTE = {0: np.array([0, 0, 0]),} # black\n",
    "\n",
    "    def __init__(self, dataset_select, exp='KIT-Loe-GE', res_path='./results/',\n",
    "                  data_path='./data/', load=True):\n",
    "        self.dataset = dataset_select\n",
    "        self.exp = exp\n",
    "\n",
    "        self.res_path = res_path\n",
    "        self.data_path = data_path\n",
    "\n",
    "        # key (str): img sequence {'01', '02'}; value (List[str]): img path\n",
    "        self.keys = ['01', '02']\n",
    "        self.image = {}\n",
    "        self.pred = {}\n",
    "        self.target = {}\n",
    "\n",
    "        self.image_challenge = {}\n",
    "        self.pred_challenge = {}\n",
    "\n",
    "        self.color_range = None # (min, max)\n",
    "\n",
    "        # Read in the data\n",
    "        if load:\n",
    "            self._load()\n",
    "\n",
    "    def _load(self, include_val=True):\n",
    "        '''Method to load all data. Can be called manually'''\n",
    "        self.get_train_img_list(path=self.data_path, include_val=include_val)\n",
    "        self.get_challenge_img_list(path='./ctc_raw_data/')\n",
    "        self.get_pred_list(path=self.res_path)\n",
    "\n",
    "    def get_train_img_list(self, path, include_val):\n",
    "        ''' Read the train folder. (path='./data')\n",
    "        Read in all the images to put into self.image,and all gt masks to put into self.target.\n",
    "        '''\n",
    "        path = Path(path) / self.dataset\n",
    "        keys = [i.name for i in (path/'train').iterdir()]\n",
    "        self.keys = keys\n",
    "\n",
    "        for key in keys:\n",
    "            img_list = list((path/'train'/key/'images').glob('*.tif'))\n",
    "            mask_list = list((path/'train'/key/'masks').glob('*.tif'))\n",
    "            if include_val:\n",
    "                img_list.extend(list((path/'val'/key/'images').glob('*.tif')))\n",
    "                mask_list.extend(list((path/'val'/key/'masks').glob('*.tif')))\n",
    "            img_list.sort()\n",
    "            mask_list.sort()\n",
    "\n",
    "            for img, mask in zip(img_list, mask_list):\n",
    "                assert img.name == mask.name, f'Name not match: {img.name} != {mask.name}'\\\n",
    "\n",
    "            self.image[key] = img_list\n",
    "            self.target[key] = mask_list\n",
    "\n",
    "    def get_challenge_img_list(self, path):\n",
    "        ''' Read the raw challenge folder. (path='./ctc_raw_data/')'''\n",
    "        path = Path(path) / 'challenge' / self.dataset\n",
    "        keys = [i.name for i in path.iterdir()]\n",
    "        self.keys = keys\n",
    "\n",
    "        for key in keys:\n",
    "            img_list = list((path/key).glob('*.tif'))\n",
    "            img_list.sort()\n",
    "\n",
    "            self.image_challenge[key] = img_list\n",
    "\n",
    "    def get_pred_list(self, path):\n",
    "        ''' Read the pred results for train and challenge. (path='./results')'''\n",
    "        path = Path(path) / self.dataset / self.exp\n",
    "        if self.keys is None:\n",
    "            raise ValueError('Please run get_train_img_list() or get_challenge_img_list() first.')\n",
    "        keys = self.keys\n",
    "\n",
    "        for key in keys:\n",
    "            pred_list = sorted(list((path/'train'/(key+'_RES')).glob('*.tif')))\n",
    "            self.pred[key] = pred_list\n",
    "\n",
    "            pred_challenge_list = sorted(list((path/'challenge'/(key+'_RES')).glob('*.tif')))\n",
    "            self.pred_challenge[key] = pred_challenge_list\n",
    "\n",
    "\n",
    "    # ------------------ Process the data ------------------\n",
    "    def check_availability(self, verbose=False):\n",
    "        '''Check if dataset and pred are available'''\n",
    "        res_path = self.res_path\n",
    "        try:\n",
    "            dataset_folder = Path(res_path)/self.dataset/self.exp\n",
    "            assert dataset_folder.parent.exists(), f'{dataset_folder.parent} does not exist.'\n",
    "            assert dataset_folder.exists(), f'{dataset_folder} does not exist.'\n",
    "            res_train = dataset_folder/'train'\n",
    "            assert res_train.exists and len(list(res_train.iterdir())) == 2,\\\n",
    "                f'{res_train} does not have 2 folders.'\n",
    "            # res_challenge = dataset_folder/'challenge'\n",
    "            # assert res_challenge.exists and len(list(res_challenge.iterdir())) == 2,\\\n",
    "            #     f'{res_challenge} does not have 2 folders.'\n",
    "        except AssertionError as e:\n",
    "            if verbose: print(e)\n",
    "            return False\n",
    "        except FileNotFoundError as e:\n",
    "            if verbose: print(e)\n",
    "            return False\n",
    "        else:\n",
    "            return True\n",
    "\n",
    "    def load_image(self, path, scale=True, rgb=False):\n",
    "        path = str(path)\n",
    "        img = tifffile.imread(path)\n",
    "        if scale and self.color_range is not None:\n",
    "            img = img.astype(np.float32)\n",
    "            img = (img - self.color_range[0]) / (self.color_range[1] - self.color_range[0])\n",
    "        if rgb:\n",
    "            img = np.stack([img, img, img], axis=-1)\n",
    "        return img\n",
    "\n",
    "    def preprocess_img_list(self, choice=1, color_range=None):\n",
    "        '''Preprocess the images, get the min and max, to better convert them into float32 dtype'''\n",
    "        if color_range is not None:\n",
    "            self.color_range = color_range\n",
    "            return\n",
    "\n",
    "        for key in self.keys:\n",
    "            img_list = self.image[key] + self.image_challenge[key]\n",
    "            if choice < 1:\n",
    "                img_list = np.random.choice(img_list, size=int(len(img_list)*choice), replace=False)\n",
    "            for img_path in tqdm(img_list, desc=f'Preprocess {key}'):\n",
    "                img = tifffile.imread(img_path)\n",
    "                if self.color_range is None:\n",
    "                    self.color_range = (img.min(), img.max())\n",
    "                else:\n",
    "                    self.color_range = (\n",
    "                        min(self.color_range[0], img.min()),\n",
    "                        max(self.color_range[1], img.max())\n",
    "                    )\n",
    "        print(f'color_range: {self.color_range}')\n",
    "\n",
    "\n",
    "    def merge_image(self, img, mask, alpha=0.5):\n",
    "        '''merge the image and the mask with alpha blending'''\n",
    "        img = img.astype(np.float32)\n",
    "        mask = mask.astype(np.float32)\n",
    "        # img = img / img.max()\n",
    "        # mask = mask / mask.max()\n",
    "        img = np.where(mask>0, img*(1-alpha)+mask*alpha, img)\n",
    "        return img\n",
    "\n",
    "    def seg2rgb(self, seg):\n",
    "        '''convert the segmentation to rgb image'''\n",
    "        rgb = np.zeros((*seg.shape, 3), dtype=np.float32)\n",
    "        for idx in np.unique(seg):\n",
    "            rgb[seg==idx] = self.palette(idx)\n",
    "        return rgb\n",
    "\n",
    "    # ------------------ Eval Metrics -------------------\n",
    "\n",
    "    def evaluate_metrics(self, res_path=None, gt_path='./ctc_raw_data/'):\n",
    "        tmp_path = Path('./temp/')\n",
    "        res_path = res_path or self.res_path\n",
    "        if not tmp_path.exists():\n",
    "            tmp_path.mkdir()\n",
    "        ctc_metric_path = Path('./embedtrack/ctc_metrics/CTC_eval/Linux')\n",
    "        ctc_measures = [i.name for i in ctc_metric_path.iterdir() if 'Measure' in i.name]\n",
    "        metrics = {}\n",
    "\n",
    "        for k in self.keys:\n",
    "            result_dir = Path(res_path) / self.dataset / self.exp / 'train' \\\n",
    "                / (k+'_RES')\n",
    "            gt_dir = Path(gt_path) / 'train' / self.dataset / (k+'_GT')\n",
    "            num_images = len(list(result_dir.glob('*.tif')))\n",
    "            n_digits = 3 if num_images < 1000 else 4\n",
    "\n",
    "            tmp_res = tmp_path / (k+'_RES')\n",
    "            tmp_gt = tmp_path / (k+'_GT')\n",
    "            if tmp_res.exists():\n",
    "                tmp_res.unlink()\n",
    "            if tmp_gt.exists():\n",
    "                tmp_gt.unlink()\n",
    "\n",
    "            tmp_res.symlink_to(result_dir.absolute())\n",
    "            tmp_gt.symlink_to(gt_dir.absolute())\n",
    "\n",
    "            metrics[k] = {}\n",
    "            for measure_f in ctc_measures:\n",
    "                if not (tmp_res / 'res_track.txt').exists() and measure_f.startswith('TRA'):\n",
    "                    continue\n",
    "                output = subprocess.Popen(\n",
    "                    [\n",
    "                        (ctc_metric_path/measure_f).as_posix(),\n",
    "                        tmp_path.as_posix(),\n",
    "                        k,\n",
    "                        str(n_digits),\n",
    "                    ],\n",
    "                    stdout=subprocess.PIPE,\n",
    "                    stderr=subprocess.PIPE,\n",
    "                )\n",
    "                stdout, stderr = output.communicate()\n",
    "                if stderr:\n",
    "                    print(stderr.decode('utf-8'))\n",
    "\n",
    "                # print(stdout.decode('utf-8'))\n",
    "                metric_score = re.findall(r\"\\d\\.\\d*\", stdout.decode(\"utf-8\"))\n",
    "\n",
    "                assert len(metric_score) == 1, f'len(metric_score) != 1, {metric_score}'\n",
    "                metrics[k][measure_f[:3]] = metric_score[0]\n",
    "\n",
    "        return metrics\n",
    "\n",
    "\n",
    "    # ------------------ Visualization ------------------\n",
    "\n",
    "    def get_pic(self, idx, _type, key='01', select='train'):\n",
    "        '''\n",
    "        get single image of any type.\n",
    "        Args:\n",
    "            idx (int): index of the image\n",
    "            _type (str): 'img', 'target', 'pred'\n",
    "            key (str): '01', '02'\n",
    "            select (str): 'train', 'challenge'\n",
    "        '''\n",
    "        if select=='train':\n",
    "            ds_image = self.image\n",
    "            ds_pred = self.pred\n",
    "            ds_target = self.target\n",
    "        elif select=='challenge':\n",
    "            ds_image = self.image_challenge\n",
    "            ds_pred = self.pred_challenge\n",
    "            ds_target = None\n",
    "        else:\n",
    "            raise NotImplementedError(f'select={select} is not supported.')\n",
    "\n",
    "        img = self.load_image(ds_image[key][idx], rgb=True, scale=True)\n",
    "        if _type == 'img':\n",
    "            img_res = img\n",
    "        elif _type == 'target':\n",
    "            target = self.load_image(ds_target[key][idx], scale=False)\n",
    "            target = self.seg2rgb(target)\n",
    "            img_res = self.merge_image(img, target)\n",
    "        elif _type == 'pred':\n",
    "            pred = self.load_image(ds_pred[key][idx], scale=False)\n",
    "            pred = self.seg2rgb(pred)\n",
    "            img_res = self.merge_image(img, pred)\n",
    "\n",
    "        return img_res\n",
    "\n",
    "    def get_single_frame(self, idx, key='01', select='train', with_gt=False):\n",
    "        '''get single image, [img+target | img+pred]'''\n",
    "\n",
    "        img_1 = self.get_pic(idx, 'target' if with_gt else 'img', key=key, select=select)\n",
    "        img_2 = self.get_pic(idx, 'pred', key=key, select=select)\n",
    "        res = np.concatenate([img_1, img_2], axis=1)\n",
    "        # plt.imshow(img)\n",
    "        # plt.show()\n",
    "        return res\n",
    "\n",
    "    def make_video(self, path='./visualization/', fps=5, select='train'):\n",
    "        '''make a video from the images and save it to the path.\n",
    "        video is structed as [img+target | img+pred]\n",
    "        '''\n",
    "        if self.color_range is None:\n",
    "            self.preprocess_img_list(choice=1)\n",
    "\n",
    "        for key in self.keys:\n",
    "            img = self.get_single_frame(0, key, select=select)\n",
    "            height, width, _ = img.shape\n",
    "\n",
    "            vid_name = f'{self.dataset}_{select}_{key}_{self.exp}_'\\\n",
    "                       f'{datetime.now().strftime(\"%m%d-%H%M\")}.mp4'\n",
    "            fourcc = cv2.VideoWriter_fourcc(*'mp4v') # MJPG\n",
    "            os.makedirs(os.path.dirname(path+vid_name), exist_ok=True)\n",
    "            videoWriter = cv2.VideoWriter(path+vid_name, fourcc, fps, (width, height))\n",
    "\n",
    "            print(f'Video will be saved to {path+vid_name}')\n",
    "            img_list = self.image[key] if select=='train' else self.image_challenge[key]\n",
    "            for i in tqdm(range(len(img_list)), desc='Making video'):\n",
    "                img = self.get_single_frame(i, key, select=select)\n",
    "                img = (img * 255).astype(np.uint8)\n",
    "                videoWriter.write(img)\n",
    "\n",
    "        pass\n",
    "\n",
    "    def palette(self, idx):\n",
    "        '''given the image, return the palette rgb color'''\n",
    "        if idx not in self.PALETTE:\n",
    "            self.PALETTE[idx] = np.random.uniform(0.5, 1, size=(3,)).astype(np.float32)\n",
    "        return self.PALETTE[idx]"
   ]
  },
  {
   "cell_type": "code",
   "execution_count": 26,
   "metadata": {
    "id": "PC-SJObj1Csp"
   },
   "outputs": [],
   "source": [
    "# load data\n",
    "res = CellRes('Fluo-N2DH-SIM+', exp=f'adam_norm_onecycle_15/{last_model}', load=False)\n",
    "res.check_availability(verbose=True)\n",
    "res._load(include_val=False)"
   ]
  },
  {
   "cell_type": "code",
   "execution_count": 27,
   "metadata": {
    "id": "S8cBLcm-IVvx"
   },
   "outputs": [
    {
     "name": "stderr",
     "output_type": "stream",
     "text": [
      "Preprocess 01: 100%|██████████████████████████████████████████████████████████████████████████████████████████████████████████████████████████████████████████████████████████| 169/169 [00:01<00:00, 102.41it/s]\n",
      "Preprocess 02: 100%|███████████████████████████████████████████████████████████████████████████████████████████████████████████████████████████████████████████████████████████| 273/273 [00:02<00:00, 93.28it/s]\n"
     ]
    },
    {
     "name": "stdout",
     "output_type": "stream",
     "text": [
      "color_range: (70, 788)\n",
      "Video will be saved to ./visualization/Fluo-N2DH-SIM+_train_01_adam_norm_onecycle_15/2024-03-04---12-24-43_0304-1415.mp4\n"
     ]
    },
    {
     "name": "stderr",
     "output_type": "stream",
     "text": [
      "Making video: 100%|██████████████████████████████████████████████████████████████████████████████████████████████████████████████████████████████████████████████████████████████| 59/59 [00:05<00:00, 10.63it/s]\n"
     ]
    },
    {
     "name": "stdout",
     "output_type": "stream",
     "text": [
      "Video will be saved to ./visualization/Fluo-N2DH-SIM+_train_02_adam_norm_onecycle_15/2024-03-04---12-24-43_0304-1415.mp4\n"
     ]
    },
    {
     "name": "stderr",
     "output_type": "stream",
     "text": [
      "Making video: 100%|████████████████████████████████████████████████████████████████████████████████████████████████████████████████████████████████████████████████████████████| 135/135 [00:13<00:00, 10.19it/s]\n"
     ]
    },
    {
     "data": {
      "text/plain": [
       "{'01': {'SEG': '0.889412', 'TRA': '0.983643', 'DET': '0.983928'},\n",
       " '02': {'SEG': '0.780475', 'TRA': '0.960236', 'DET': '0.964729'}}"
      ]
     },
     "execution_count": 27,
     "metadata": {},
     "output_type": "execute_result"
    }
   ],
   "source": [
    "# Visualize train set and calculate metrics\n",
    "res.make_video(select='train')\n",
    "res.evaluate_metrics()"
   ]
  },
  {
   "cell_type": "code",
   "execution_count": 28,
   "metadata": {
    "id": "SsDUQtbtIE1x"
   },
   "outputs": [
    {
     "name": "stdout",
     "output_type": "stream",
     "text": [
      "Video will be saved to ./visualization/Fluo-N2DH-SIM+_challenge_01_adam_norm_onecycle_15/2024-03-04---12-24-43_0304-1416.mp4\n"
     ]
    },
    {
     "name": "stderr",
     "output_type": "stream",
     "text": [
      "Making video: 100%|████████████████████████████████████████████████████████████████████████████████████████████████████████████████████████████████████████████████████████████| 110/110 [00:13<00:00,  8.32it/s]\n"
     ]
    },
    {
     "name": "stdout",
     "output_type": "stream",
     "text": [
      "Video will be saved to ./visualization/Fluo-N2DH-SIM+_challenge_02_adam_norm_onecycle_15/2024-03-04---12-24-43_0304-1416.mp4\n"
     ]
    },
    {
     "name": "stderr",
     "output_type": "stream",
     "text": [
      "Making video: 100%|████████████████████████████████████████████████████████████████████████████████████████████████████████████████████████████████████████████████████████████| 138/138 [00:14<00:00,  9.44it/s]\n"
     ]
    }
   ],
   "source": [
    "# Visualize challenge set\n",
    "res.make_video(select='challenge')"
   ]
  },
  {
   "cell_type": "code",
   "execution_count": null,
   "metadata": {},
   "outputs": [],
   "source": []
  }
 ],
 "metadata": {
  "accelerator": "TPU",
  "colab": {
   "provenance": []
  },
  "kernelspec": {
   "display_name": "Python 3 (ipykernel)",
   "language": "python",
   "name": "python3"
  },
  "language_info": {
   "codemirror_mode": {
    "name": "ipython",
    "version": 3
   },
   "file_extension": ".py",
   "mimetype": "text/x-python",
   "name": "python",
   "nbconvert_exporter": "python",
   "pygments_lexer": "ipython3",
   "version": "3.10.10"
  }
 },
 "nbformat": 4,
 "nbformat_minor": 4
}
